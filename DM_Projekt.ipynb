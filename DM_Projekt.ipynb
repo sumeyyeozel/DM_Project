{
  "nbformat": 4,
  "nbformat_minor": 0,
  "metadata": {
    "colab": {
      "name": "DM_Projekt.ipynb",
      "provenance": [],
      "collapsed_sections": [
        "EYZPNnQnu1jP",
        "61I8LU-q7cxj",
        "1-bAxSJRBiW-"
      ]
    },
    "kernelspec": {
      "display_name": "Python 3",
      "name": "python3"
    }
  },
  "cells": [
    {
      "cell_type": "markdown",
      "metadata": {
        "id": "hSD4ySwkRflE"
      },
      "source": [
        "## Business Understanding"
      ]
    },
    {
      "cell_type": "markdown",
      "metadata": {
        "id": "vdaXxGb1RtAs"
      },
      "source": [
        "In diesem Schritt wird der Zweck des Projekts definiert. Es sollte richtig bestimmt werden, indem mit allen Projektbeteiligten besprochen wird, was das Hauptziel des Projekts ist, und dann dem Projektsponsor die Hand geschüttelt wird. In Fällen wie Missverständnissen oder Missverständnissen treten in Zukunft große Probleme auf, da dieser Schritt die Grundlage für Data Mining bildet. Unser Ziel ist es, die Daten offenzulegen, die Aufschluss darüber geben, welche Kunden das neue Produkt der Bank, BF1Card, im Lichte der Daten, die wir von der Bank erhalten haben, mit der wir zusammenarbeiten, verkaufen können. Entsprechend dem Ergebnis dieses Prozesses wird die Bank die Werbezielgruppe usw. umsetzen.\n",
        "\n",
        "Projenin amacı bu adımda tanımlanır.\n",
        "Projenin ana hedefinin ne olduğunu tüm proje paydaşlarıyla görüşüp akabinde proje sponsoru ile el sıkışarak doğru bir şekilde belirlenmelidir.\n",
        "Yanlış anlaşılma veya düzgün anlaşılmama gibi durumlarda ileride büyük sıkıntılar ortaya çıkar çünkü bu adım data mining işleminin temelidir.\n",
        "Bizim amacımız ise çalıştığımız bankadan almış olduğumuz veriler eşliğinde bankanın yeni ürünü olan BF1Kart'ı hangi müşterilere satabilecekleri konusunda bilgi veren verileri açığa çıkartmaktır. Bu işlemin sonucuna göre banka reklam hedef kitlesini vb şeylerini hayata geçirecektir."
      ]
    },
    {
      "cell_type": "markdown",
      "metadata": {
        "id": "EYZPNnQnu1jP"
      },
      "source": [
        "## Data Understanding"
      ]
    },
    {
      "cell_type": "code",
      "metadata": {
        "id": "6N6N_ZslRa_c",
        "colab": {
          "base_uri": "https://localhost:8080/"
        },
        "outputId": "ead58c60-0396-4b5c-f4d1-5bca19da4950"
      },
      "source": [
        "import pandas as pd\n",
        "import seaborn as sns\n",
        "import numpy as np\n",
        "from matplotlib import pyplot as plt \n",
        "from sklearn.preprocessing import LabelEncoder\n",
        "csv_url = ('https://raw.githubusercontent.com/sarp-u/csv/main/bank_marketing_adal_v1.0%20(1).csv')\n",
        "df = pd.read_csv(csv_url, sep= ';', decimal= ',')\n",
        "print(df.shape)"
      ],
      "execution_count": null,
      "outputs": [
        {
          "output_type": "stream",
          "text": [
            "(20493, 10)\n"
          ],
          "name": "stdout"
        }
      ]
    },
    {
      "cell_type": "markdown",
      "metadata": {
        "id": "OOu_qtBORcYE"
      },
      "source": [
        "Hier haben wir die Bibliotheken importiert, die wir zur Analyse der Daten benötigen. Dann haben wir unsere CSV-Datei aus Github gezogen und in die Variable df eingefügt und uns angesehen, aus wie vielen Spalten und Zeilen unsere CSV-Datei besteht.\n",
        "\n",
        "Burada datayı analiz etmemiz için gerekli kütüphaneleri importladık. Daha sonrasında github'dan csv dosyamızı çekip df adlı variable'ın içine koyduk ve csv dosyamızın kaç sütun ve satırdan oluştuğna baktık"
      ]
    },
    {
      "cell_type": "code",
      "metadata": {
        "id": "_xCOBtHZt8VL",
        "colab": {
          "base_uri": "https://localhost:8080/"
        },
        "outputId": "ec345ce0-4dc1-449b-aa10-236a6167d9a3"
      },
      "source": [
        "df.info()"
      ],
      "execution_count": null,
      "outputs": [
        {
          "output_type": "stream",
          "text": [
            "<class 'pandas.core.frame.DataFrame'>\n",
            "RangeIndex: 20493 entries, 0 to 20492\n",
            "Data columns (total 10 columns):\n",
            " #   Column         Non-Null Count  Dtype \n",
            "---  ------         --------------  ----- \n",
            " 0   Alter          20493 non-null  int64 \n",
            " 1   Beruf          20493 non-null  object\n",
            " 2   Familienstand  20493 non-null  object\n",
            " 3   Ausbildung     20493 non-null  object\n",
            " 4   Ausgefallen    20493 non-null  int64 \n",
            " 5   Kontostand     20493 non-null  int64 \n",
            " 6   Eigentum       20493 non-null  int64 \n",
            " 7   Darlehen       20493 non-null  int64 \n",
            " 8   Dauer          20493 non-null  int64 \n",
            " 9   Label          20493 non-null  int64 \n",
            "dtypes: int64(7), object(3)\n",
            "memory usage: 1.6+ MB\n"
          ],
          "name": "stdout"
        }
      ]
    },
    {
      "cell_type": "markdown",
      "metadata": {
        "id": "qHf8oA9JuJ7m"
      },
      "source": [
        "Unser erster Schritt besteht darin, die Informationen der Daten zu erhalten, an denen wir arbeiten. Wir beobachten also unsere Spalten und die Arten von Werten, die die Spalten haben.\n",
        "\n",
        "İlk adımımız çalıştığımız datanın infosunu almak. Böylece Sütunlarımızı ve sütunların sahip olduğu değerlerin türlerini gözlemleriz"
      ]
    },
    {
      "cell_type": "code",
      "metadata": {
        "id": "La0XpAuMudsk",
        "colab": {
          "base_uri": "https://localhost:8080/"
        },
        "outputId": "29f4d7b7-fd47-4dcc-b8b0-f3c086737c83"
      },
      "source": [
        "df.shape"
      ],
      "execution_count": null,
      "outputs": [
        {
          "output_type": "execute_result",
          "data": {
            "text/plain": [
              "(20493, 10)"
            ]
          },
          "metadata": {
            "tags": []
          },
          "execution_count": 3
        }
      ]
    },
    {
      "cell_type": "markdown",
      "metadata": {
        "id": "EdK9emkouhKs"
      },
      "source": [
        "Beachten Sie die Anzahl der Spalten und Zeilen.\n",
        "\n",
        "Sütun ve satır sayısını gözlemleme"
      ]
    },
    {
      "cell_type": "code",
      "metadata": {
        "id": "oorXTDkMBlmI",
        "colab": {
          "base_uri": "https://localhost:8080/",
          "height": 204
        },
        "outputId": "07c0ef33-ae0c-43f7-ec84-3c4bb1f3d9bc"
      },
      "source": [
        "df.head()"
      ],
      "execution_count": null,
      "outputs": [
        {
          "output_type": "execute_result",
          "data": {
            "text/html": [
              "<div>\n",
              "<style scoped>\n",
              "    .dataframe tbody tr th:only-of-type {\n",
              "        vertical-align: middle;\n",
              "    }\n",
              "\n",
              "    .dataframe tbody tr th {\n",
              "        vertical-align: top;\n",
              "    }\n",
              "\n",
              "    .dataframe thead th {\n",
              "        text-align: right;\n",
              "    }\n",
              "</style>\n",
              "<table border=\"1\" class=\"dataframe\">\n",
              "  <thead>\n",
              "    <tr style=\"text-align: right;\">\n",
              "      <th></th>\n",
              "      <th>Alter</th>\n",
              "      <th>Beruf</th>\n",
              "      <th>Familienstand</th>\n",
              "      <th>Ausbildung</th>\n",
              "      <th>Ausgefallen</th>\n",
              "      <th>Kontostand</th>\n",
              "      <th>Eigentum</th>\n",
              "      <th>Darlehen</th>\n",
              "      <th>Dauer</th>\n",
              "      <th>Label</th>\n",
              "    </tr>\n",
              "  </thead>\n",
              "  <tbody>\n",
              "    <tr>\n",
              "      <th>0</th>\n",
              "      <td>31</td>\n",
              "      <td>Freiberufler</td>\n",
              "      <td>verheiratet</td>\n",
              "      <td>Allgemeine Hochschulreife</td>\n",
              "      <td>0</td>\n",
              "      <td>162</td>\n",
              "      <td>1</td>\n",
              "      <td>1</td>\n",
              "      <td>0</td>\n",
              "      <td>1</td>\n",
              "    </tr>\n",
              "    <tr>\n",
              "      <th>1</th>\n",
              "      <td>28</td>\n",
              "      <td>Beamter</td>\n",
              "      <td>verheiratet</td>\n",
              "      <td>Allgemeine Hochschulreife</td>\n",
              "      <td>0</td>\n",
              "      <td>1595</td>\n",
              "      <td>0</td>\n",
              "      <td>0</td>\n",
              "      <td>1</td>\n",
              "      <td>0</td>\n",
              "    </tr>\n",
              "    <tr>\n",
              "      <th>2</th>\n",
              "      <td>39</td>\n",
              "      <td>Techniker</td>\n",
              "      <td>geschieden</td>\n",
              "      <td>Allgemeine Hochschulreife</td>\n",
              "      <td>0</td>\n",
              "      <td>17441</td>\n",
              "      <td>1</td>\n",
              "      <td>1</td>\n",
              "      <td>1</td>\n",
              "      <td>1</td>\n",
              "    </tr>\n",
              "    <tr>\n",
              "      <th>3</th>\n",
              "      <td>54</td>\n",
              "      <td>Arbeitslos</td>\n",
              "      <td>geschieden</td>\n",
              "      <td>Allgemeine Hochschulreife</td>\n",
              "      <td>0</td>\n",
              "      <td>925</td>\n",
              "      <td>0</td>\n",
              "      <td>0</td>\n",
              "      <td>2</td>\n",
              "      <td>0</td>\n",
              "    </tr>\n",
              "    <tr>\n",
              "      <th>4</th>\n",
              "      <td>24</td>\n",
              "      <td>Techniker</td>\n",
              "      <td>ledig</td>\n",
              "      <td>Allgemeine Hochschulreife</td>\n",
              "      <td>0</td>\n",
              "      <td>-156</td>\n",
              "      <td>1</td>\n",
              "      <td>0</td>\n",
              "      <td>4</td>\n",
              "      <td>0</td>\n",
              "    </tr>\n",
              "  </tbody>\n",
              "</table>\n",
              "</div>"
            ],
            "text/plain": [
              "   Alter         Beruf Familienstand  ... Darlehen  Dauer  Label\n",
              "0     31  Freiberufler   verheiratet  ...        1      0      1\n",
              "1     28       Beamter   verheiratet  ...        0      1      0\n",
              "2     39     Techniker    geschieden  ...        1      1      1\n",
              "3     54    Arbeitslos    geschieden  ...        0      2      0\n",
              "4     24     Techniker         ledig  ...        0      4      0\n",
              "\n",
              "[5 rows x 10 columns]"
            ]
          },
          "metadata": {
            "tags": []
          },
          "execution_count": 4
        }
      ]
    },
    {
      "cell_type": "markdown",
      "metadata": {
        "id": "3Hov-mvmdkbh"
      },
      "source": [
        "Wir haben die Funktion .head () verwendet, um die Daten, an denen wir arbeiten, zu beobachten und die darin enthaltenen Werte zu betrachten.\n",
        "\n",
        "Çalıştığımız datayı gözlemlemek ve içindeki değerlere bakmak için .head() fonksiyonunu kullandık"
      ]
    },
    {
      "cell_type": "code",
      "metadata": {
        "id": "dBC90bhfxIrm",
        "colab": {
          "base_uri": "https://localhost:8080/",
          "height": 359
        },
        "outputId": "7f19b518-c96a-4466-d6df-05e44cb25022"
      },
      "source": [
        "df.describe(include = 'all').transpose()"
      ],
      "execution_count": null,
      "outputs": [
        {
          "output_type": "execute_result",
          "data": {
            "text/html": [
              "<div>\n",
              "<style scoped>\n",
              "    .dataframe tbody tr th:only-of-type {\n",
              "        vertical-align: middle;\n",
              "    }\n",
              "\n",
              "    .dataframe tbody tr th {\n",
              "        vertical-align: top;\n",
              "    }\n",
              "\n",
              "    .dataframe thead th {\n",
              "        text-align: right;\n",
              "    }\n",
              "</style>\n",
              "<table border=\"1\" class=\"dataframe\">\n",
              "  <thead>\n",
              "    <tr style=\"text-align: right;\">\n",
              "      <th></th>\n",
              "      <th>count</th>\n",
              "      <th>unique</th>\n",
              "      <th>top</th>\n",
              "      <th>freq</th>\n",
              "      <th>mean</th>\n",
              "      <th>std</th>\n",
              "      <th>min</th>\n",
              "      <th>25%</th>\n",
              "      <th>50%</th>\n",
              "      <th>75%</th>\n",
              "      <th>max</th>\n",
              "    </tr>\n",
              "  </thead>\n",
              "  <tbody>\n",
              "    <tr>\n",
              "      <th>Alter</th>\n",
              "      <td>20493</td>\n",
              "      <td>NaN</td>\n",
              "      <td>NaN</td>\n",
              "      <td>NaN</td>\n",
              "      <td>39.4865</td>\n",
              "      <td>10.3343</td>\n",
              "      <td>18</td>\n",
              "      <td>32</td>\n",
              "      <td>37</td>\n",
              "      <td>47</td>\n",
              "      <td>69</td>\n",
              "    </tr>\n",
              "    <tr>\n",
              "      <th>Beruf</th>\n",
              "      <td>20493</td>\n",
              "      <td>11</td>\n",
              "      <td>unbekannt</td>\n",
              "      <td>4535</td>\n",
              "      <td>NaN</td>\n",
              "      <td>NaN</td>\n",
              "      <td>NaN</td>\n",
              "      <td>NaN</td>\n",
              "      <td>NaN</td>\n",
              "      <td>NaN</td>\n",
              "      <td>NaN</td>\n",
              "    </tr>\n",
              "    <tr>\n",
              "      <th>Familienstand</th>\n",
              "      <td>20493</td>\n",
              "      <td>3</td>\n",
              "      <td>verheiratet</td>\n",
              "      <td>11173</td>\n",
              "      <td>NaN</td>\n",
              "      <td>NaN</td>\n",
              "      <td>NaN</td>\n",
              "      <td>NaN</td>\n",
              "      <td>NaN</td>\n",
              "      <td>NaN</td>\n",
              "      <td>NaN</td>\n",
              "    </tr>\n",
              "    <tr>\n",
              "      <th>Ausbildung</th>\n",
              "      <td>20493</td>\n",
              "      <td>4</td>\n",
              "      <td>Allgemeine Hochschulreife</td>\n",
              "      <td>10522</td>\n",
              "      <td>NaN</td>\n",
              "      <td>NaN</td>\n",
              "      <td>NaN</td>\n",
              "      <td>NaN</td>\n",
              "      <td>NaN</td>\n",
              "      <td>NaN</td>\n",
              "      <td>NaN</td>\n",
              "    </tr>\n",
              "    <tr>\n",
              "      <th>Ausgefallen</th>\n",
              "      <td>20493</td>\n",
              "      <td>NaN</td>\n",
              "      <td>NaN</td>\n",
              "      <td>NaN</td>\n",
              "      <td>0.0114673</td>\n",
              "      <td>0.106472</td>\n",
              "      <td>0</td>\n",
              "      <td>0</td>\n",
              "      <td>0</td>\n",
              "      <td>0</td>\n",
              "      <td>1</td>\n",
              "    </tr>\n",
              "    <tr>\n",
              "      <th>Kontostand</th>\n",
              "      <td>20493</td>\n",
              "      <td>NaN</td>\n",
              "      <td>NaN</td>\n",
              "      <td>NaN</td>\n",
              "      <td>1428.93</td>\n",
              "      <td>2378.8</td>\n",
              "      <td>-4057</td>\n",
              "      <td>141</td>\n",
              "      <td>561</td>\n",
              "      <td>1640</td>\n",
              "      <td>19985</td>\n",
              "    </tr>\n",
              "    <tr>\n",
              "      <th>Eigentum</th>\n",
              "      <td>20493</td>\n",
              "      <td>NaN</td>\n",
              "      <td>NaN</td>\n",
              "      <td>NaN</td>\n",
              "      <td>0.567852</td>\n",
              "      <td>0.495387</td>\n",
              "      <td>0</td>\n",
              "      <td>0</td>\n",
              "      <td>1</td>\n",
              "      <td>1</td>\n",
              "      <td>1</td>\n",
              "    </tr>\n",
              "    <tr>\n",
              "      <th>Darlehen</th>\n",
              "      <td>20493</td>\n",
              "      <td>NaN</td>\n",
              "      <td>NaN</td>\n",
              "      <td>NaN</td>\n",
              "      <td>0.132338</td>\n",
              "      <td>0.338866</td>\n",
              "      <td>0</td>\n",
              "      <td>0</td>\n",
              "      <td>0</td>\n",
              "      <td>0</td>\n",
              "      <td>1</td>\n",
              "    </tr>\n",
              "    <tr>\n",
              "      <th>Dauer</th>\n",
              "      <td>20493</td>\n",
              "      <td>NaN</td>\n",
              "      <td>NaN</td>\n",
              "      <td>NaN</td>\n",
              "      <td>298.072</td>\n",
              "      <td>291.22</td>\n",
              "      <td>0</td>\n",
              "      <td>113</td>\n",
              "      <td>204</td>\n",
              "      <td>372</td>\n",
              "      <td>2456</td>\n",
              "    </tr>\n",
              "    <tr>\n",
              "      <th>Label</th>\n",
              "      <td>20493</td>\n",
              "      <td>NaN</td>\n",
              "      <td>NaN</td>\n",
              "      <td>NaN</td>\n",
              "      <td>0.237789</td>\n",
              "      <td>0.425739</td>\n",
              "      <td>0</td>\n",
              "      <td>0</td>\n",
              "      <td>0</td>\n",
              "      <td>0</td>\n",
              "      <td>1</td>\n",
              "    </tr>\n",
              "  </tbody>\n",
              "</table>\n",
              "</div>"
            ],
            "text/plain": [
              "               count unique                        top  ...  50%   75%    max\n",
              "Alter          20493    NaN                        NaN  ...   37    47     69\n",
              "Beruf          20493     11                  unbekannt  ...  NaN   NaN    NaN\n",
              "Familienstand  20493      3                verheiratet  ...  NaN   NaN    NaN\n",
              "Ausbildung     20493      4  Allgemeine Hochschulreife  ...  NaN   NaN    NaN\n",
              "Ausgefallen    20493    NaN                        NaN  ...    0     0      1\n",
              "Kontostand     20493    NaN                        NaN  ...  561  1640  19985\n",
              "Eigentum       20493    NaN                        NaN  ...    1     1      1\n",
              "Darlehen       20493    NaN                        NaN  ...    0     0      1\n",
              "Dauer          20493    NaN                        NaN  ...  204   372   2456\n",
              "Label          20493    NaN                        NaN  ...    0     0      1\n",
              "\n",
              "[10 rows x 11 columns]"
            ]
          },
          "metadata": {
            "tags": []
          },
          "execution_count": 5
        }
      ]
    },
    {
      "cell_type": "markdown",
      "metadata": {
        "id": "fDf7hAgaxPg5"
      },
      "source": [
        "Wir verwenden diesen Schritt, um bessere Informationen über die Daten zu erhalten, mit denen wir arbeiten. Somit können wir leicht Werte wie Standardabweichung, Mittelwert min und max für ganzzahlige Werte sehen. Für Zeichenfolgenwerte können wir Dinge wie das am häufigsten verwendete Objekt und seine Häufigkeit finden. Im Allgemeinen können wir beispielsweise erreichen, welcher Wert in unserem Datensatz wie oft verwendet wird.\n",
        "\n",
        "Çalıştığımız veri hakkında daha iyi bilgi almak için bu adımı kullanırız. Böylelikle integer değerler için standart sapma, ortalama değer min ve max gibi değerleri kolaylıkla görebiliriz. String değerleri için ise en çok kullanılan şeyi ve sıklığı gibi şeylere ulaşabiliriz. Genel olarak ise hangi değer data setimizde kaç kere kullanılmış vb şeylere ulaşırız."
      ]
    },
    {
      "cell_type": "code",
      "metadata": {
        "id": "TBRgOT2nu_2t",
        "colab": {
          "base_uri": "https://localhost:8080/",
          "height": 419
        },
        "outputId": "732ace2f-c294-4e19-e21e-5177e1eef61d"
      },
      "source": [
        "df.sort_values(by = ['Alter','Kontostand'], ascending = True)"
      ],
      "execution_count": null,
      "outputs": [
        {
          "output_type": "execute_result",
          "data": {
            "text/html": [
              "<div>\n",
              "<style scoped>\n",
              "    .dataframe tbody tr th:only-of-type {\n",
              "        vertical-align: middle;\n",
              "    }\n",
              "\n",
              "    .dataframe tbody tr th {\n",
              "        vertical-align: top;\n",
              "    }\n",
              "\n",
              "    .dataframe thead th {\n",
              "        text-align: right;\n",
              "    }\n",
              "</style>\n",
              "<table border=\"1\" class=\"dataframe\">\n",
              "  <thead>\n",
              "    <tr style=\"text-align: right;\">\n",
              "      <th></th>\n",
              "      <th>Alter</th>\n",
              "      <th>Beruf</th>\n",
              "      <th>Familienstand</th>\n",
              "      <th>Ausbildung</th>\n",
              "      <th>Ausgefallen</th>\n",
              "      <th>Kontostand</th>\n",
              "      <th>Eigentum</th>\n",
              "      <th>Darlehen</th>\n",
              "      <th>Dauer</th>\n",
              "      <th>Label</th>\n",
              "    </tr>\n",
              "  </thead>\n",
              "  <tbody>\n",
              "    <tr>\n",
              "      <th>6149</th>\n",
              "      <td>18</td>\n",
              "      <td>Student</td>\n",
              "      <td>ledig</td>\n",
              "      <td>unbekannt</td>\n",
              "      <td>0</td>\n",
              "      <td>3</td>\n",
              "      <td>0</td>\n",
              "      <td>0</td>\n",
              "      <td>130</td>\n",
              "      <td>1</td>\n",
              "    </tr>\n",
              "    <tr>\n",
              "      <th>6931</th>\n",
              "      <td>18</td>\n",
              "      <td>Student</td>\n",
              "      <td>ledig</td>\n",
              "      <td>Allgemeine Hochschulreife</td>\n",
              "      <td>0</td>\n",
              "      <td>5</td>\n",
              "      <td>0</td>\n",
              "      <td>0</td>\n",
              "      <td>143</td>\n",
              "      <td>0</td>\n",
              "    </tr>\n",
              "    <tr>\n",
              "      <th>4533</th>\n",
              "      <td>18</td>\n",
              "      <td>Student</td>\n",
              "      <td>ledig</td>\n",
              "      <td>unbekannt</td>\n",
              "      <td>0</td>\n",
              "      <td>35</td>\n",
              "      <td>0</td>\n",
              "      <td>0</td>\n",
              "      <td>104</td>\n",
              "      <td>0</td>\n",
              "    </tr>\n",
              "    <tr>\n",
              "      <th>3779</th>\n",
              "      <td>18</td>\n",
              "      <td>Student</td>\n",
              "      <td>ledig</td>\n",
              "      <td>unbekannt</td>\n",
              "      <td>0</td>\n",
              "      <td>108</td>\n",
              "      <td>0</td>\n",
              "      <td>0</td>\n",
              "      <td>92</td>\n",
              "      <td>1</td>\n",
              "    </tr>\n",
              "    <tr>\n",
              "      <th>8375</th>\n",
              "      <td>18</td>\n",
              "      <td>Student</td>\n",
              "      <td>ledig</td>\n",
              "      <td>unbekannt</td>\n",
              "      <td>0</td>\n",
              "      <td>108</td>\n",
              "      <td>0</td>\n",
              "      <td>0</td>\n",
              "      <td>167</td>\n",
              "      <td>1</td>\n",
              "    </tr>\n",
              "    <tr>\n",
              "      <th>...</th>\n",
              "      <td>...</td>\n",
              "      <td>...</td>\n",
              "      <td>...</td>\n",
              "      <td>...</td>\n",
              "      <td>...</td>\n",
              "      <td>...</td>\n",
              "      <td>...</td>\n",
              "      <td>...</td>\n",
              "      <td>...</td>\n",
              "      <td>...</td>\n",
              "    </tr>\n",
              "    <tr>\n",
              "      <th>6685</th>\n",
              "      <td>69</td>\n",
              "      <td>Rentner</td>\n",
              "      <td>geschieden</td>\n",
              "      <td>Allgemeine Hochschulreife</td>\n",
              "      <td>0</td>\n",
              "      <td>4189</td>\n",
              "      <td>0</td>\n",
              "      <td>0</td>\n",
              "      <td>138</td>\n",
              "      <td>0</td>\n",
              "    </tr>\n",
              "    <tr>\n",
              "      <th>7155</th>\n",
              "      <td>69</td>\n",
              "      <td>Rentner</td>\n",
              "      <td>geschieden</td>\n",
              "      <td>Allgemeine Hochschulreife</td>\n",
              "      <td>0</td>\n",
              "      <td>4572</td>\n",
              "      <td>0</td>\n",
              "      <td>0</td>\n",
              "      <td>146</td>\n",
              "      <td>0</td>\n",
              "    </tr>\n",
              "    <tr>\n",
              "      <th>9377</th>\n",
              "      <td>69</td>\n",
              "      <td>Rentner</td>\n",
              "      <td>geschieden</td>\n",
              "      <td>Allgemeine Hochschulreife</td>\n",
              "      <td>0</td>\n",
              "      <td>4572</td>\n",
              "      <td>0</td>\n",
              "      <td>0</td>\n",
              "      <td>185</td>\n",
              "      <td>0</td>\n",
              "    </tr>\n",
              "    <tr>\n",
              "      <th>20474</th>\n",
              "      <td>69</td>\n",
              "      <td>Rentner</td>\n",
              "      <td>geschieden</td>\n",
              "      <td>Allgemeine Hochschulreife</td>\n",
              "      <td>0</td>\n",
              "      <td>6850</td>\n",
              "      <td>0</td>\n",
              "      <td>0</td>\n",
              "      <td>2055</td>\n",
              "      <td>0</td>\n",
              "    </tr>\n",
              "    <tr>\n",
              "      <th>18726</th>\n",
              "      <td>69</td>\n",
              "      <td>Techniker</td>\n",
              "      <td>verheiratet</td>\n",
              "      <td>Allgemeine Hochschulreife</td>\n",
              "      <td>0</td>\n",
              "      <td>9064</td>\n",
              "      <td>0</td>\n",
              "      <td>0</td>\n",
              "      <td>714</td>\n",
              "      <td>1</td>\n",
              "    </tr>\n",
              "  </tbody>\n",
              "</table>\n",
              "<p>20493 rows × 10 columns</p>\n",
              "</div>"
            ],
            "text/plain": [
              "       Alter      Beruf Familienstand  ... Darlehen  Dauer  Label\n",
              "6149      18    Student         ledig  ...        0    130      1\n",
              "6931      18    Student         ledig  ...        0    143      0\n",
              "4533      18    Student         ledig  ...        0    104      0\n",
              "3779      18    Student         ledig  ...        0     92      1\n",
              "8375      18    Student         ledig  ...        0    167      1\n",
              "...      ...        ...           ...  ...      ...    ...    ...\n",
              "6685      69    Rentner    geschieden  ...        0    138      0\n",
              "7155      69    Rentner    geschieden  ...        0    146      0\n",
              "9377      69    Rentner    geschieden  ...        0    185      0\n",
              "20474     69    Rentner    geschieden  ...        0   2055      0\n",
              "18726     69  Techniker   verheiratet  ...        0    714      1\n",
              "\n",
              "[20493 rows x 10 columns]"
            ]
          },
          "metadata": {
            "tags": []
          },
          "execution_count": 6
        }
      ]
    },
    {
      "cell_type": "markdown",
      "metadata": {
        "id": "5LCtyiZpvRyE"
      },
      "source": [
        "Sortierung in aufsteigender Reihenfolge nach Alter und Geldbetrag auf der Bank\n",
        "\n",
        "Artan sırayla yaş ve bankadaki para miktarına göre sıralama"
      ]
    },
    {
      "cell_type": "code",
      "metadata": {
        "id": "Gy4BZ34wxonR",
        "colab": {
          "base_uri": "https://localhost:8080/",
          "height": 142
        },
        "outputId": "1c92e1e1-83d3-46e3-886d-c3543c2962cf"
      },
      "source": [
        "duplicate_rows_data = df[df.duplicated()]\n",
        "duplicate_rows_data"
      ],
      "execution_count": null,
      "outputs": [
        {
          "output_type": "execute_result",
          "data": {
            "text/html": [
              "<div>\n",
              "<style scoped>\n",
              "    .dataframe tbody tr th:only-of-type {\n",
              "        vertical-align: middle;\n",
              "    }\n",
              "\n",
              "    .dataframe tbody tr th {\n",
              "        vertical-align: top;\n",
              "    }\n",
              "\n",
              "    .dataframe thead th {\n",
              "        text-align: right;\n",
              "    }\n",
              "</style>\n",
              "<table border=\"1\" class=\"dataframe\">\n",
              "  <thead>\n",
              "    <tr style=\"text-align: right;\">\n",
              "      <th></th>\n",
              "      <th>Alter</th>\n",
              "      <th>Beruf</th>\n",
              "      <th>Familienstand</th>\n",
              "      <th>Ausbildung</th>\n",
              "      <th>Ausgefallen</th>\n",
              "      <th>Kontostand</th>\n",
              "      <th>Eigentum</th>\n",
              "      <th>Darlehen</th>\n",
              "      <th>Dauer</th>\n",
              "      <th>Label</th>\n",
              "    </tr>\n",
              "  </thead>\n",
              "  <tbody>\n",
              "    <tr>\n",
              "      <th>3804</th>\n",
              "      <td>33</td>\n",
              "      <td>unbekannt</td>\n",
              "      <td>verheiratet</td>\n",
              "      <td>Hochschulabschluss</td>\n",
              "      <td>0</td>\n",
              "      <td>1390</td>\n",
              "      <td>0</td>\n",
              "      <td>0</td>\n",
              "      <td>92</td>\n",
              "      <td>0</td>\n",
              "    </tr>\n",
              "    <tr>\n",
              "      <th>4152</th>\n",
              "      <td>30</td>\n",
              "      <td>Servicekraft</td>\n",
              "      <td>ledig</td>\n",
              "      <td>Allgemeine Hochschulreife</td>\n",
              "      <td>0</td>\n",
              "      <td>438</td>\n",
              "      <td>1</td>\n",
              "      <td>0</td>\n",
              "      <td>98</td>\n",
              "      <td>0</td>\n",
              "    </tr>\n",
              "    <tr>\n",
              "      <th>8123</th>\n",
              "      <td>39</td>\n",
              "      <td>Beamter</td>\n",
              "      <td>ledig</td>\n",
              "      <td>Allgemeine Hochschulreife</td>\n",
              "      <td>0</td>\n",
              "      <td>782</td>\n",
              "      <td>1</td>\n",
              "      <td>0</td>\n",
              "      <td>162</td>\n",
              "      <td>0</td>\n",
              "    </tr>\n",
              "  </tbody>\n",
              "</table>\n",
              "</div>"
            ],
            "text/plain": [
              "      Alter         Beruf Familienstand  ... Darlehen  Dauer  Label\n",
              "3804     33     unbekannt   verheiratet  ...        0     92      0\n",
              "4152     30  Servicekraft         ledig  ...        0     98      0\n",
              "8123     39       Beamter         ledig  ...        0    162      0\n",
              "\n",
              "[3 rows x 10 columns]"
            ]
          },
          "metadata": {
            "tags": []
          },
          "execution_count": 7
        }
      ]
    },
    {
      "cell_type": "code",
      "metadata": {
        "id": "HFLgqOI0x6ja"
      },
      "source": [
        "df = df.drop_duplicates()"
      ],
      "execution_count": null,
      "outputs": []
    },
    {
      "cell_type": "markdown",
      "metadata": {
        "id": "WFYqAgk3yOou"
      },
      "source": [
        "Wir müssen die wiederholten Linien finden und subtrahieren.\n",
        "\n",
        "Tekrarlanan satırları bulup, bu satırları çıkarmamız gerekli\n",
        "\n"
      ]
    },
    {
      "cell_type": "code",
      "metadata": {
        "id": "jp1ROaGJyeKX",
        "colab": {
          "base_uri": "https://localhost:8080/"
        },
        "outputId": "1d25ad40-24b3-41ae-bd05-194f0eb0e1c8"
      },
      "source": [
        "df.isnull().values.any()"
      ],
      "execution_count": null,
      "outputs": [
        {
          "output_type": "execute_result",
          "data": {
            "text/plain": [
              "False"
            ]
          },
          "metadata": {
            "tags": []
          },
          "execution_count": 9
        }
      ]
    },
    {
      "cell_type": "markdown",
      "metadata": {
        "id": "83PQ9eGqyjz9"
      },
      "source": [
        "Wir haben nachgesehen, ob unsere Daten in irgendeiner Weise leer sind. Wenn sie false zurückgeben, sehen wir, dass es in keiner Weise einen Nano- oder Nullwert gibt.\n",
        "\n",
        "Verilerimizin içerisinde herhangi bir şekilde boş bir kısım olup olmadığına baktık eğer false dönerse herhangi bir şekilde nan veya null değeri olmadığını görürüz."
      ]
    },
    {
      "cell_type": "code",
      "metadata": {
        "id": "-Tw-P0LlystX"
      },
      "source": [
        "#df.dropna(inplace = True)"
      ],
      "execution_count": null,
      "outputs": []
    },
    {
      "cell_type": "markdown",
      "metadata": {
        "id": "H6gMxyIxytRB"
      },
      "source": [
        "Wie wir im obigen Code sehen können, enthält unser Code keinen Null- oder NaN-Wert. Wenn es jedoch gefunden wird, können wir diese Daten nicht verarbeiten und es kann später zu Problemen kommen. Daher besteht eine der Methoden, die durchgeführt werden können, darin, diese Werte nicht zu verringern.\n",
        "\n",
        "Yukarıdaki kodda gördüğümüz üzere kodumuzda herhangi bir şekilde null veya NaN değerinde herhangi bir şey bulunmamakta. Ancak bulunduğu takdirde bu verileri işleme katamıyoruz ve daha sonrasında sıkıntılar çıkarabiliyor. Bu yüzden yapılabilecek yöntemlerden birisi bu değerleri düşürerek işleme almamaktır."
      ]
    },
    {
      "cell_type": "code",
      "metadata": {
        "id": "ryVB4Nobyth1"
      },
      "source": [
        "#df['Alter'].replace(np.NaN,df['Alter'].mean()).tail()"
      ],
      "execution_count": null,
      "outputs": []
    },
    {
      "cell_type": "markdown",
      "metadata": {
        "id": "j73S2X2Dytr-"
      },
      "source": [
        "Nehmen wir erneut hypothetisch an, dass in unserer Spalte \"Alter\" Werte fehlen. Ein anderer Ansatz besteht darin, neue Werte zuzuweisen, anstatt diese Werte zu löschen. In diesem Fall besteht der beste Ansatz darin, einen der Mittel-, Median- oder Moduswerte auszuwählen. Auch hier ersetzen wir die Linien in NaN-Werten durch das Durchschnittsalter.\n",
        "\n",
        "Yine varsayımsal olarak Yaş sütunumuzda eksik değerler olduğunu varsayalım. Bir diğer yaklaşım ise bu değerleri silmek yerine yerine yeni değerler atamaktır. Bu durumda yapılabilecek en iyi yaklaşım ortalama, medyan veya mod değerlerinden birisini seçmektir. Burada da yaptığımız işlem NaN değerindeki satırları yaş ortalaması ile değiştirmektir."
      ]
    },
    {
      "cell_type": "code",
      "metadata": {
        "id": "ZQHDssKVkPHv",
        "colab": {
          "base_uri": "https://localhost:8080/",
          "height": 411
        },
        "outputId": "743da481-4ba2-4dfe-f7cc-e17c565c3fcd"
      },
      "source": [
        "berufs = df['Beruf'].unique()\n",
        "data = df['Beruf'].value_counts()\n",
        "fig = plt.figure(figsize =(12, 7)) \n",
        "plt.pie(data, autopct='%1.1f%%', labels = berufs)\n",
        "plt.show()\n"
      ],
      "execution_count": null,
      "outputs": [
        {
          "output_type": "display_data",
          "data": {
            "image/png": "[encoded data removed]",
            "text/plain": [
              "<Figure size 864x504 with 1 Axes>"
            ]
          },
          "metadata": {
            "tags": []
          }
        }
      ]
    },
    {
      "cell_type": "markdown",
      "metadata": {
        "id": "KShDn0Zkmnul"
      },
      "source": [
        "Wir addieren den Wert jeder einzelnen Arbeit in diesem Datensatz zu unserem Berufswert. In unserem Datenwert finden wir heraus, wie viele Personen in jedem Beruf sind. Wenn wir diese Daten, die wir später erhalten haben, in unseren Befehl einfügen, der das Kreisdiagramm zeichnet, wird das gezeigte Ergebnis erhalten. Anhand dieses Kreisdiagramms können wir leicht erkennen, welchem ​​Beruf die Mehrheit der Personen mit Bankkonten angehört.\n",
        "\n",
        "\n",
        "Berufs değerimizin içerisine bu data setteki her bir farklı iş değerini atıyoruz. Data değerimizde ise her bir meslekte kaç kişinin olduğuna ulaşırız. Daha sonrasında elde ettiğimiz bu verileri pasta grafiğini çizecek olan komutumuzu içersine yerleştirdiğimizde de gösterilen sonuç ortaya çıkar. Bu pasta grafiğine bakarak banka hesabı olan kişilerin çoğunluğunun hangi meslek grubundan olduğunu kolayca görebiliriz."
      ]
    },
    {
      "cell_type": "code",
      "metadata": {
        "id": "f_Vn7c3ioXV3",
        "colab": {
          "base_uri": "https://localhost:8080/",
          "height": 265
        },
        "outputId": "c71ccd67-a42a-4bb2-9c83-d2f8db0025db"
      },
      "source": [
        "familienstand = df['Familienstand'].unique()\n",
        "data = df['Familienstand'].value_counts()\n",
        "y_pos = np.arange(len(familienstand))\n",
        "plt.bar(y_pos, data, align='center', alpha=0.5, width= 0.4, color ='#540c8a')\n",
        "plt.xticks(y_pos, familienstand)\n",
        "plt.show()"
      ],
      "execution_count": null,
      "outputs": [
        {
          "output_type": "display_data",
          "data": {
            "image/png": "[encoded data removed]",
            "text/plain": [
              "<Figure size 432x288 with 1 Axes>"
            ]
          },
          "metadata": {
            "tags": [],
            "needs_background": "light"
          }
        }
      ]
    },
    {
      "cell_type": "markdown",
      "metadata": {
        "id": "CvFOF_2Nsk27"
      },
      "source": [
        "Zunächst müssen wir herausfinden, welche Werte die Daten sind, die wir zeichnen werden, und wie viele Werte. Hier sehen wir, welche Werte in einem mit Familien- und Datenwerten enthalten sind und wie viele dieser Werte in dem anderen enthalten sind. Wir listen unsere Werte auch in unserem y_pos-Wert auf. Im Teil plt.bar geben wir die Werte unseres Balkens, dh des Säulendiagramms, ein und sortieren sie in absteigender Reihenfolge. Im Abschnitt .xticks wird festgelegt und geschrieben, welcher Wert unter welche Spalte fällt.\n",
        "\n",
        "Öncelikle grafiğini çizeceğimiz verinin hangi değerler olduğunu ve kaçar tane olduğunu bulmamız gerekiyor burada familienstand ve data değerleri ile birisinde hangi değerler olduğunu diğerinde bu değerlerden kaçar tane olduğunu görüyoruz. y_pos değerimizde de değerlerimizi sıralıyoruz. plt.bar kısmında ise bar yani sütun grafiğimizin değerlerini giriyoruz ve bunları büyükten küçüğe sıralıyor. .xticks kısmında hangi sütunun altına hangi değerin geleceği belirlenip yazılıyor."
      ]
    },
    {
      "cell_type": "code",
      "metadata": {
        "id": "M0I1ubU_vWc6",
        "colab": {
          "base_uri": "https://localhost:8080/",
          "height": 312
        },
        "outputId": "3b2d639d-aed0-450e-de2b-218d94e19acf"
      },
      "source": [
        "plt.hist(df['Alter'], color = 'green', edgecolor = 'black',bins = 30)\n",
        "plt.title('Age Distribution')\n",
        "plt.xlabel('Age')\n",
        "plt.ylabel('Population')"
      ],
      "execution_count": null,
      "outputs": [
        {
          "output_type": "execute_result",
          "data": {
            "text/plain": [
              "Text(0, 0.5, 'Population')"
            ]
          },
          "metadata": {
            "tags": []
          },
          "execution_count": 14
        },
        {
          "output_type": "display_data",
          "data": {
            "image/png": "[encoded data removed]",
            "text/plain": [
              "<Figure size 432x288 with 1 Axes>"
            ]
          },
          "metadata": {
            "tags": [],
            "needs_background": "light"
          }
        }
      ]
    },
    {
      "cell_type": "markdown",
      "metadata": {
        "id": "qNMzaVmMmmNn"
      },
      "source": [
        "Wir zeichnen das Histogramm für die Altersverteilung. Auf diese Weise können wir sehen, in welcher Altersgruppe die Kunden in unserer Bank häufiger sind. Wir geben an, dass wir ein Histogramm mit der Funktion plt.hist zeichnen, die darin enthaltenen Werte sind verständlich, nur der Bins-Wert ist wichtig und es wird bestimmt, in wie viele Teile dieses Histogramm unterteilt wird.\n",
        "\n",
        "Yaş dağılımına ait histogramı çiziyoruz. Bu sayede bankamızdaki müşterilerin hangi yaş aralığında daha sık olduğunu görebiliyoruz. plt.hist fonksiyonu ile histogram çizeceğimizi belirtiyoruz, içerisindeki değerler ise anlaşılır sadece bins değeri önemli o da bu histogramın kaç parçaya bölüneceğini belirliyor."
      ]
    },
    {
      "cell_type": "code",
      "metadata": {
        "id": "TESJ9vj7o0WX",
        "colab": {
          "base_uri": "https://localhost:8080/",
          "height": 350
        },
        "outputId": "676417c6-46c0-49ad-8235-b0d4dec2c534"
      },
      "source": [
        "sns.distplot(df['Kontostand'], hist=True, kde=True, \n",
        "             bins=50, color = 'teal', \n",
        "             hist_kws={'edgecolor':'black'},\n",
        "             kde_kws={'linewidth': 3})"
      ],
      "execution_count": null,
      "outputs": [
        {
          "output_type": "stream",
          "text": [
            "/usr/local/lib/python3.6/dist-packages/seaborn/distributions.py:2557: FutureWarning: `distplot` is a deprecated function and will be removed in a future version. Please adapt your code to use either `displot` (a figure-level function with similar flexibility) or `histplot` (an axes-level function for histograms).\n",
            "  warnings.warn(msg, FutureWarning)\n"
          ],
          "name": "stderr"
        },
        {
          "output_type": "execute_result",
          "data": {
            "text/plain": [
              "<matplotlib.axes._subplots.AxesSubplot at 0x7f8191b06828>"
            ]
          },
          "metadata": {
            "tags": []
          },
          "execution_count": 15
        },
        {
          "output_type": "display_data",
          "data": {
            "image/png": "[encoded data removed]",
            "text/plain": [
              "<Figure size 432x288 with 1 Axes>"
            ]
          },
          "metadata": {
            "tags": [],
            "needs_background": "light"
          }
        }
      ]
    },
    {
      "cell_type": "markdown",
      "metadata": {
        "id": "-gpKM_Wbqkfa"
      },
      "source": [
        "Hier zeichnen wir die Grafik, die die Dichte des Geldbetrags auf dem Bankkonto zeigt. Wenn .distplot, zeichnen wir den Dichtediagramm. Je größer der Wert unserer Behälter ist, desto reibungsloser und realistischer werden sie. Wenn hist = True, werden die Säulendiagramme gezeichnet, wenn kde = True, wird das Liniendiagramm darauf gezeichnet. Wir müssen die Werte hist und kde verwenden, um die Eigenschaften der Grafik wie Farbe, Fettdruck usw. zu erreichen.\n",
        "\n",
        "Burada da banka hesabındaki para miktarının yoğunluğunu gösteren grafiği çiziyoruz. .distplot ise yoğunluk grafiğini çiziyoruz. Daha düzgün ve gerçekçi olması adına bins değerimizi ne kadar büyük yaparsak o kadar iyi aslında. hist = True olduğunda sütun grafiklerini çiziyor, kde = True olduğunda da üzerindeki çizgi grafiğini çiziyor. Grafiğin renk, kalın vb özelleriklerine ulaşabilmemiz için hist ve kde değerlerini kullanmamız gerekiyor.\n"
      ]
    },
    {
      "cell_type": "code",
      "metadata": {
        "id": "TltAhS_dtrB2",
        "colab": {
          "base_uri": "https://localhost:8080/",
          "height": 204
        },
        "outputId": "8f3c1197-047c-4af7-9068-ce9661a7fd18"
      },
      "source": [
        "df[(df['Label'] == 1) & (df['Alter'] < 30) & (df['Ausbildung'] == 'Hochschulabschluss') & (df['Kontostand'] > 1000)].head()"
      ],
      "execution_count": null,
      "outputs": [
        {
          "output_type": "execute_result",
          "data": {
            "text/html": [
              "<div>\n",
              "<style scoped>\n",
              "    .dataframe tbody tr th:only-of-type {\n",
              "        vertical-align: middle;\n",
              "    }\n",
              "\n",
              "    .dataframe tbody tr th {\n",
              "        vertical-align: top;\n",
              "    }\n",
              "\n",
              "    .dataframe thead th {\n",
              "        text-align: right;\n",
              "    }\n",
              "</style>\n",
              "<table border=\"1\" class=\"dataframe\">\n",
              "  <thead>\n",
              "    <tr style=\"text-align: right;\">\n",
              "      <th></th>\n",
              "      <th>Alter</th>\n",
              "      <th>Beruf</th>\n",
              "      <th>Familienstand</th>\n",
              "      <th>Ausbildung</th>\n",
              "      <th>Ausgefallen</th>\n",
              "      <th>Kontostand</th>\n",
              "      <th>Eigentum</th>\n",
              "      <th>Darlehen</th>\n",
              "      <th>Dauer</th>\n",
              "      <th>Label</th>\n",
              "    </tr>\n",
              "  </thead>\n",
              "  <tbody>\n",
              "    <tr>\n",
              "      <th>1414</th>\n",
              "      <td>27</td>\n",
              "      <td>Techniker</td>\n",
              "      <td>verheiratet</td>\n",
              "      <td>Hochschulabschluss</td>\n",
              "      <td>0</td>\n",
              "      <td>10451</td>\n",
              "      <td>1</td>\n",
              "      <td>0</td>\n",
              "      <td>45</td>\n",
              "      <td>1</td>\n",
              "    </tr>\n",
              "    <tr>\n",
              "      <th>2254</th>\n",
              "      <td>28</td>\n",
              "      <td>unbekannt</td>\n",
              "      <td>ledig</td>\n",
              "      <td>Hochschulabschluss</td>\n",
              "      <td>0</td>\n",
              "      <td>1287</td>\n",
              "      <td>1</td>\n",
              "      <td>0</td>\n",
              "      <td>65</td>\n",
              "      <td>1</td>\n",
              "    </tr>\n",
              "    <tr>\n",
              "      <th>2746</th>\n",
              "      <td>27</td>\n",
              "      <td>Techniker</td>\n",
              "      <td>ledig</td>\n",
              "      <td>Hochschulabschluss</td>\n",
              "      <td>0</td>\n",
              "      <td>15161</td>\n",
              "      <td>0</td>\n",
              "      <td>0</td>\n",
              "      <td>74</td>\n",
              "      <td>1</td>\n",
              "    </tr>\n",
              "    <tr>\n",
              "      <th>3085</th>\n",
              "      <td>29</td>\n",
              "      <td>unbekannt</td>\n",
              "      <td>verheiratet</td>\n",
              "      <td>Hochschulabschluss</td>\n",
              "      <td>0</td>\n",
              "      <td>1441</td>\n",
              "      <td>1</td>\n",
              "      <td>0</td>\n",
              "      <td>80</td>\n",
              "      <td>1</td>\n",
              "    </tr>\n",
              "    <tr>\n",
              "      <th>4118</th>\n",
              "      <td>24</td>\n",
              "      <td>Student</td>\n",
              "      <td>ledig</td>\n",
              "      <td>Hochschulabschluss</td>\n",
              "      <td>0</td>\n",
              "      <td>3415</td>\n",
              "      <td>0</td>\n",
              "      <td>0</td>\n",
              "      <td>97</td>\n",
              "      <td>1</td>\n",
              "    </tr>\n",
              "  </tbody>\n",
              "</table>\n",
              "</div>"
            ],
            "text/plain": [
              "      Alter      Beruf Familienstand  ... Darlehen  Dauer  Label\n",
              "1414     27  Techniker   verheiratet  ...        0     45      1\n",
              "2254     28  unbekannt         ledig  ...        0     65      1\n",
              "2746     27  Techniker         ledig  ...        0     74      1\n",
              "3085     29  unbekannt   verheiratet  ...        0     80      1\n",
              "4118     24    Student         ledig  ...        0     97      1\n",
              "\n",
              "[5 rows x 10 columns]"
            ]
          },
          "metadata": {
            "tags": []
          },
          "execution_count": 16
        }
      ]
    },
    {
      "cell_type": "markdown",
      "metadata": {
        "id": "1WTwykfswqtI"
      },
      "source": [
        "Es ist für uns sehr einfach, die uns vorliegenden Daten gemäß den spezifischen Einschränkungen der Bank oder des Kunden zu manipulieren. Wir können einen neuen Datensatz gemäß den mit nur einer Codezeile angegebenen Einschränkungen erstellen.\n",
        "\n",
        "Banka veya müşteri tarafından verilen spesifik kısıtlamara göre elimizdeki datalarla oynamamız çok basit. Sadece 1 satır kod ile verilen kısıtlamalara göre yeni bir data set oluşturabiliriz."
      ]
    },
    {
      "cell_type": "code",
      "metadata": {
        "id": "HV_Fv13e0iqz",
        "colab": {
          "base_uri": "https://localhost:8080/",
          "height": 558
        },
        "outputId": "d5931799-819c-4d70-efb0-92aa5cc712b6"
      },
      "source": [
        "import seaborn as sns\n",
        "corr = df.corr()\n",
        "plt.figure(figsize=(12,9))\n",
        "sns.heatmap(corr, \n",
        "            xticklabels=corr.columns.values,\n",
        "            yticklabels=corr.columns.values,\n",
        "            linewidth= 0.2,\n",
        "            linecolor = 'black',\n",
        "            annot = True,\n",
        "            cmap=\"YlGnBu\",\n",
        "            )"
      ],
      "execution_count": null,
      "outputs": [
        {
          "output_type": "execute_result",
          "data": {
            "text/plain": [
              "<matplotlib.axes._subplots.AxesSubplot at 0x7f8191a29710>"
            ]
          },
          "metadata": {
            "tags": []
          },
          "execution_count": 17
        },
        {
          "output_type": "display_data",
          "data": {
            "image/png": "[encoded data removed]",
            "text/plain": [
              "<Figure size 864x648 with 2 Axes>"
            ]
          },
          "metadata": {
            "tags": [],
            "needs_background": "light"
          }
        }
      ]
    },
    {
      "cell_type": "markdown",
      "metadata": {
        "id": "u9hW5fcc2zNQ"
      },
      "source": [
        "Wenn wir die Korrelationsbeziehung zeigen. annot = True => drucke die Werte auf jedes Quadrat, cmap ist die Farbe der Matrix. Die Grafik zeigt die Beziehung zwischen den 7 Werten in unserem Datensatz mit oder ohne indirektem Wert.\n",
        "\n",
        "Korelasyon ilişikisini gösterecek olursak. annot = True => her kare üzerindeki değerleri yazar, cmap matris'in rengi. Data setimizdeki 7 adet değerinin birbiri ile dolaylı ya da dolaylı olmadan oluşan ilişkisini gösteren grafik"
      ]
    },
    {
      "cell_type": "code",
      "metadata": {
        "id": "Aujo_Rh93gFi",
        "colab": {
          "base_uri": "https://localhost:8080/",
          "height": 388
        },
        "outputId": "b0a140ee-941c-409e-9790-9bc350f98fc3"
      },
      "source": [
        "fig, ax = plt.subplots(figsize=(20,6))\n",
        "ax.scatter(df['Kontostand'], df['Alter'])\n",
        "ax.set_xlabel('Kontostand')\n",
        "ax.set_ylabel('Alter')\n",
        "plt.show()"
      ],
      "execution_count": null,
      "outputs": [
        {
          "output_type": "display_data",
          "data": {
            "image/png": "[encoded data removed]",
            "text/plain": [
              "<Figure size 1440x432 with 1 Axes>"
            ]
          },
          "metadata": {
            "tags": [],
            "needs_background": "light"
          }
        }
      ]
    },
    {
      "cell_type": "markdown",
      "metadata": {
        "id": "f3Ogzj164pCt"
      },
      "source": [
        "Streudiagramm, das für das Alter und den Geldbetrag auf dem Bankkonto gezeichnet wird. Dies sind zwei verschiedene Werte in unserem Datensatz.\n",
        "\n",
        "Data setimizdeki 2 farklı değer olan yaş ve banka hesabında bulunan para miktarı için çizilmiş Scatter plot yani Serpilme diyagramı"
      ]
    },
    {
      "cell_type": "markdown",
      "metadata": {
        "id": "9jlAqoqmyc-8"
      },
      "source": [
        "## Data Preprocessing"
      ]
    },
    {
      "cell_type": "code",
      "metadata": {
        "id": "KMwNPPfyybO5",
        "colab": {
          "base_uri": "https://localhost:8080/"
        },
        "outputId": "b26fc0be-2df1-4320-f8ce-9dfcddbe6b97"
      },
      "source": [
        "df.iloc[:5].values"
      ],
      "execution_count": null,
      "outputs": [
        {
          "output_type": "execute_result",
          "data": {
            "text/plain": [
              "array([[31, 'Freiberufler', 'verheiratet', 'Allgemeine Hochschulreife',\n",
              "        0, 162, 1, 1, 0, 1],\n",
              "       [28, 'Beamter', 'verheiratet', 'Allgemeine Hochschulreife', 0,\n",
              "        1595, 0, 0, 1, 0],\n",
              "       [39, 'Techniker', 'geschieden', 'Allgemeine Hochschulreife', 0,\n",
              "        17441, 1, 1, 1, 1],\n",
              "       [54, 'Arbeitslos', 'geschieden', 'Allgemeine Hochschulreife', 0,\n",
              "        925, 0, 0, 2, 0],\n",
              "       [24, 'Techniker', 'ledig', 'Allgemeine Hochschulreife', 0, -156,\n",
              "        1, 0, 4, 0]], dtype=object)"
            ]
          },
          "metadata": {
            "tags": []
          },
          "execution_count": 19
        }
      ]
    },
    {
      "cell_type": "markdown",
      "metadata": {
        "id": "Nh0B2ZJxy-Mk"
      },
      "source": [
        "Mit .iloc können wir Werte von n bis m untersuchen. Um mit den Werten zu arbeiten, die wir haben, benötigen wir numerische Daten, aber wie wir sehen, haben Beruf, Familienstand, Ausbildung Daten vom Typ String.\n",
        "\n",
        ".iloc sayesinde n'den m'ye kadar giden değerleri kolaylıkla inceleyebiliriz. Elimizdeki değerlerle çalışmak için numerik verilere sahip olmamız gerekli ancak gördüğümüz gibi Beruf, Familienstand, Ausbildung string türünde verilere sahip"
      ]
    },
    {
      "cell_type": "code",
      "metadata": {
        "id": "i_wdlHA_z5La",
        "colab": {
          "base_uri": "https://localhost:8080/"
        },
        "outputId": "7f6cc5b1-427f-4497-e87d-b26d8595ebe0"
      },
      "source": [
        "label_encoder = LabelEncoder()\n",
        "df['Beruf'] = label_encoder.fit_transform(df['Beruf'])\n",
        "df['Familienstand'] = label_encoder.fit_transform(df['Familienstand'])\n",
        "df['Ausbildung'] = label_encoder.fit_transform(df['Ausbildung'])\n",
        "df.head()"
      ],
      "execution_count": null,
      "outputs": [
        {
          "output_type": "execute_result",
          "data": {
            "text/html": [
              "<div>\n",
              "<style scoped>\n",
              "    .dataframe tbody tr th:only-of-type {\n",
              "        vertical-align: middle;\n",
              "    }\n",
              "\n",
              "    .dataframe tbody tr th {\n",
              "        vertical-align: top;\n",
              "    }\n",
              "\n",
              "    .dataframe thead th {\n",
              "        text-align: right;\n",
              "    }\n",
              "</style>\n",
              "<table border=\"1\" class=\"dataframe\">\n",
              "  <thead>\n",
              "    <tr style=\"text-align: right;\">\n",
              "      <th></th>\n",
              "      <th>Alter</th>\n",
              "      <th>Beruf</th>\n",
              "      <th>Familienstand</th>\n",
              "      <th>Ausbildung</th>\n",
              "      <th>Ausgefallen</th>\n",
              "      <th>Kontostand</th>\n",
              "      <th>Eigentum</th>\n",
              "      <th>Darlehen</th>\n",
              "      <th>Dauer</th>\n",
              "      <th>Label</th>\n",
              "    </tr>\n",
              "  </thead>\n",
              "  <tbody>\n",
              "    <tr>\n",
              "      <th>0</th>\n",
              "      <td>31</td>\n",
              "      <td>3</td>\n",
              "      <td>2</td>\n",
              "      <td>0</td>\n",
              "      <td>0</td>\n",
              "      <td>162</td>\n",
              "      <td>1</td>\n",
              "      <td>1</td>\n",
              "      <td>0</td>\n",
              "      <td>1</td>\n",
              "    </tr>\n",
              "    <tr>\n",
              "      <th>1</th>\n",
              "      <td>28</td>\n",
              "      <td>2</td>\n",
              "      <td>2</td>\n",
              "      <td>0</td>\n",
              "      <td>0</td>\n",
              "      <td>1595</td>\n",
              "      <td>0</td>\n",
              "      <td>0</td>\n",
              "      <td>1</td>\n",
              "      <td>0</td>\n",
              "    </tr>\n",
              "    <tr>\n",
              "      <th>2</th>\n",
              "      <td>39</td>\n",
              "      <td>9</td>\n",
              "      <td>0</td>\n",
              "      <td>0</td>\n",
              "      <td>0</td>\n",
              "      <td>17441</td>\n",
              "      <td>1</td>\n",
              "      <td>1</td>\n",
              "      <td>1</td>\n",
              "      <td>1</td>\n",
              "    </tr>\n",
              "    <tr>\n",
              "      <th>3</th>\n",
              "      <td>54</td>\n",
              "      <td>1</td>\n",
              "      <td>0</td>\n",
              "      <td>0</td>\n",
              "      <td>0</td>\n",
              "      <td>925</td>\n",
              "      <td>0</td>\n",
              "      <td>0</td>\n",
              "      <td>2</td>\n",
              "      <td>0</td>\n",
              "    </tr>\n",
              "    <tr>\n",
              "      <th>4</th>\n",
              "      <td>24</td>\n",
              "      <td>9</td>\n",
              "      <td>1</td>\n",
              "      <td>0</td>\n",
              "      <td>0</td>\n",
              "      <td>-156</td>\n",
              "      <td>1</td>\n",
              "      <td>0</td>\n",
              "      <td>4</td>\n",
              "      <td>0</td>\n",
              "    </tr>\n",
              "  </tbody>\n",
              "</table>\n",
              "</div>"
            ],
            "text/plain": [
              "   Alter  Beruf  Familienstand  Ausbildung  ...  Eigentum  Darlehen  Dauer  Label\n",
              "0     31      3              2           0  ...         1         1      0      1\n",
              "1     28      2              2           0  ...         0         0      1      0\n",
              "2     39      9              0           0  ...         1         1      1      1\n",
              "3     54      1              0           0  ...         0         0      2      0\n",
              "4     24      9              1           0  ...         1         0      4      0\n",
              "\n",
              "[5 rows x 10 columns]"
            ]
          },
          "metadata": {
            "tags": []
          },
          "execution_count": 20
        }
      ]
    },
    {
      "cell_type": "markdown",
      "metadata": {
        "id": "mHSvKjr94jDT"
      },
      "source": [
        "Da wir 3 Spalten vom Typ String in Integer konvertiert haben, sind wir der Datenanalyse einen Schritt näher gekommen. Am Ende dieses Prozesses tritt jedoch ein solches Problem auf. Er wies verschiedene ganzzahlige Werte für verschiedene Arten von Jobs, Familienstand oder Bildungsstatus zu. Zum Beispiel hat der Familienstand den Wert 2 für verheiratet 1 für ledig zugewiesen. Mathematisch 2> 1, aber das bedeutet nicht, dass der Wert einer verheirateten Person höher ist als der einer einzelnen Person, aber der Computer weiß das nicht, daher müssen wir Dummy-Variablen verwenden.\n",
        "\n",
        "\n",
        "String türünde olan 3 adet sütunu da integer'a çevirdiğimize göre veri inceleme işlemine bir adım daha yaklaşıyoruz. Lakin bu işlem sonunda şöyle bir sorun oluşuyor. Farklı türde işler, medeni durumlar veya öğrenim durumları için farklı integer değerleri atadı. Örneğin Familienstandda verheiratet için 2 ledig için 1 değerini atadı. Matematiksel olarak 2>1 ama bu evli bir bireyin değerinin bekar bir insandan daha yüksek olduğu anlamına gelmiyor ama bilgisayar bunu bilmiyor, o yüzden dummy variableları kullanmamız gerekiyor."
      ]
    },
    {
      "cell_type": "code",
      "metadata": {
        "id": "8rlL5tu15zs_",
        "colab": {
          "base_uri": "https://localhost:8080/"
        },
        "outputId": "1e2fcd08-0440-4334-e548-1c848117b844"
      },
      "source": [
        "dummy = pd.get_dummies(df['Beruf']).astype(int)\n",
        "dummy2 = pd.get_dummies(df['Familienstand'])\n",
        "dummy3 = pd.get_dummies(df['Ausbildung'])\n",
        "dummy"
      ],
      "execution_count": null,
      "outputs": [
        {
          "output_type": "execute_result",
          "data": {
            "text/html": [
              "<div>\n",
              "<style scoped>\n",
              "    .dataframe tbody tr th:only-of-type {\n",
              "        vertical-align: middle;\n",
              "    }\n",
              "\n",
              "    .dataframe tbody tr th {\n",
              "        vertical-align: top;\n",
              "    }\n",
              "\n",
              "    .dataframe thead th {\n",
              "        text-align: right;\n",
              "    }\n",
              "</style>\n",
              "<table border=\"1\" class=\"dataframe\">\n",
              "  <thead>\n",
              "    <tr style=\"text-align: right;\">\n",
              "      <th></th>\n",
              "      <th>0</th>\n",
              "      <th>1</th>\n",
              "      <th>2</th>\n",
              "      <th>3</th>\n",
              "      <th>4</th>\n",
              "      <th>5</th>\n",
              "      <th>6</th>\n",
              "      <th>7</th>\n",
              "      <th>8</th>\n",
              "      <th>9</th>\n",
              "      <th>10</th>\n",
              "    </tr>\n",
              "  </thead>\n",
              "  <tbody>\n",
              "    <tr>\n",
              "      <th>0</th>\n",
              "      <td>0</td>\n",
              "      <td>0</td>\n",
              "      <td>0</td>\n",
              "      <td>1</td>\n",
              "      <td>0</td>\n",
              "      <td>0</td>\n",
              "      <td>0</td>\n",
              "      <td>0</td>\n",
              "      <td>0</td>\n",
              "      <td>0</td>\n",
              "      <td>0</td>\n",
              "    </tr>\n",
              "    <tr>\n",
              "      <th>1</th>\n",
              "      <td>0</td>\n",
              "      <td>0</td>\n",
              "      <td>1</td>\n",
              "      <td>0</td>\n",
              "      <td>0</td>\n",
              "      <td>0</td>\n",
              "      <td>0</td>\n",
              "      <td>0</td>\n",
              "      <td>0</td>\n",
              "      <td>0</td>\n",
              "      <td>0</td>\n",
              "    </tr>\n",
              "    <tr>\n",
              "      <th>2</th>\n",
              "      <td>0</td>\n",
              "      <td>0</td>\n",
              "      <td>0</td>\n",
              "      <td>0</td>\n",
              "      <td>0</td>\n",
              "      <td>0</td>\n",
              "      <td>0</td>\n",
              "      <td>0</td>\n",
              "      <td>0</td>\n",
              "      <td>1</td>\n",
              "      <td>0</td>\n",
              "    </tr>\n",
              "    <tr>\n",
              "      <th>3</th>\n",
              "      <td>0</td>\n",
              "      <td>1</td>\n",
              "      <td>0</td>\n",
              "      <td>0</td>\n",
              "      <td>0</td>\n",
              "      <td>0</td>\n",
              "      <td>0</td>\n",
              "      <td>0</td>\n",
              "      <td>0</td>\n",
              "      <td>0</td>\n",
              "      <td>0</td>\n",
              "    </tr>\n",
              "    <tr>\n",
              "      <th>4</th>\n",
              "      <td>0</td>\n",
              "      <td>0</td>\n",
              "      <td>0</td>\n",
              "      <td>0</td>\n",
              "      <td>0</td>\n",
              "      <td>0</td>\n",
              "      <td>0</td>\n",
              "      <td>0</td>\n",
              "      <td>0</td>\n",
              "      <td>1</td>\n",
              "      <td>0</td>\n",
              "    </tr>\n",
              "    <tr>\n",
              "      <th>...</th>\n",
              "      <td>...</td>\n",
              "      <td>...</td>\n",
              "      <td>...</td>\n",
              "      <td>...</td>\n",
              "      <td>...</td>\n",
              "      <td>...</td>\n",
              "      <td>...</td>\n",
              "      <td>...</td>\n",
              "      <td>...</td>\n",
              "      <td>...</td>\n",
              "      <td>...</td>\n",
              "    </tr>\n",
              "    <tr>\n",
              "      <th>20488</th>\n",
              "      <td>1</td>\n",
              "      <td>0</td>\n",
              "      <td>0</td>\n",
              "      <td>0</td>\n",
              "      <td>0</td>\n",
              "      <td>0</td>\n",
              "      <td>0</td>\n",
              "      <td>0</td>\n",
              "      <td>0</td>\n",
              "      <td>0</td>\n",
              "      <td>0</td>\n",
              "    </tr>\n",
              "    <tr>\n",
              "      <th>20489</th>\n",
              "      <td>0</td>\n",
              "      <td>0</td>\n",
              "      <td>0</td>\n",
              "      <td>0</td>\n",
              "      <td>0</td>\n",
              "      <td>0</td>\n",
              "      <td>0</td>\n",
              "      <td>0</td>\n",
              "      <td>0</td>\n",
              "      <td>1</td>\n",
              "      <td>0</td>\n",
              "    </tr>\n",
              "    <tr>\n",
              "      <th>20490</th>\n",
              "      <td>0</td>\n",
              "      <td>0</td>\n",
              "      <td>0</td>\n",
              "      <td>0</td>\n",
              "      <td>0</td>\n",
              "      <td>0</td>\n",
              "      <td>0</td>\n",
              "      <td>0</td>\n",
              "      <td>0</td>\n",
              "      <td>1</td>\n",
              "      <td>0</td>\n",
              "    </tr>\n",
              "    <tr>\n",
              "      <th>20491</th>\n",
              "      <td>1</td>\n",
              "      <td>0</td>\n",
              "      <td>0</td>\n",
              "      <td>0</td>\n",
              "      <td>0</td>\n",
              "      <td>0</td>\n",
              "      <td>0</td>\n",
              "      <td>0</td>\n",
              "      <td>0</td>\n",
              "      <td>0</td>\n",
              "      <td>0</td>\n",
              "    </tr>\n",
              "    <tr>\n",
              "      <th>20492</th>\n",
              "      <td>1</td>\n",
              "      <td>0</td>\n",
              "      <td>0</td>\n",
              "      <td>0</td>\n",
              "      <td>0</td>\n",
              "      <td>0</td>\n",
              "      <td>0</td>\n",
              "      <td>0</td>\n",
              "      <td>0</td>\n",
              "      <td>0</td>\n",
              "      <td>0</td>\n",
              "    </tr>\n",
              "  </tbody>\n",
              "</table>\n",
              "<p>20490 rows × 11 columns</p>\n",
              "</div>"
            ],
            "text/plain": [
              "       0   1   2   3   4   5   6   7   8   9   10\n",
              "0       0   0   0   1   0   0   0   0   0   0   0\n",
              "1       0   0   1   0   0   0   0   0   0   0   0\n",
              "2       0   0   0   0   0   0   0   0   0   1   0\n",
              "3       0   1   0   0   0   0   0   0   0   0   0\n",
              "4       0   0   0   0   0   0   0   0   0   1   0\n",
              "...    ..  ..  ..  ..  ..  ..  ..  ..  ..  ..  ..\n",
              "20488   1   0   0   0   0   0   0   0   0   0   0\n",
              "20489   0   0   0   0   0   0   0   0   0   1   0\n",
              "20490   0   0   0   0   0   0   0   0   0   1   0\n",
              "20491   1   0   0   0   0   0   0   0   0   0   0\n",
              "20492   1   0   0   0   0   0   0   0   0   0   0\n",
              "\n",
              "[20490 rows x 11 columns]"
            ]
          },
          "metadata": {
            "tags": []
          },
          "execution_count": 21
        }
      ]
    },
    {
      "cell_type": "markdown",
      "metadata": {
        "id": "CnwLKDYL7Olq"
      },
      "source": [
        "Aus dem oben genannten Grund müssen wir mit den uns gegebenen ganzen Zahlen spielen. Auch hier hilft uns eine Dummy-Variable. Der Prozess weist den Wert der Zeichenfolge der Person in der Spalte kurz dem Wert der Zeichenfolge zu, den verbleibenden Teilen Beruf / Familienstand / Bildung 1 und 0. Mit diesem Prozess werden Situationen wie die Überlegenheit eines Berufs gegenüber einem anderen beseitigt.\n",
        "\n",
        "Yukarıda belirtilen sebepten dolayı bir şekilde bizlere verilmiş olan integerlarla oynamamız gerekiyor. Burada da yardımımıza dummy variable yetişiyor. Yapılan işlem kısaca Sütundaki kişi hangi değerdeki stringe sahipse o mesleği/medeni halini/eğitimi 1 geri kalan kısımlara 0 değerini atıyor. Bu işlem sayesinde bir mesleğin diğerine üstünlüğü vb gibi durumlar ortadan kalkıyor."
      ]
    },
    {
      "cell_type": "code",
      "metadata": {
        "id": "tRwaTAZr6Gq2",
        "colab": {
          "base_uri": "https://localhost:8080/"
        },
        "outputId": "0cdbbf12-0bc5-405f-9e60-d41e842390fe"
      },
      "source": [
        "df = pd.concat([df,dummy, dummy2, dummy3], axis = 1)\n",
        "df.head()"
      ],
      "execution_count": null,
      "outputs": [
        {
          "output_type": "execute_result",
          "data": {
            "text/html": [
              "<div>\n",
              "<style scoped>\n",
              "    .dataframe tbody tr th:only-of-type {\n",
              "        vertical-align: middle;\n",
              "    }\n",
              "\n",
              "    .dataframe tbody tr th {\n",
              "        vertical-align: top;\n",
              "    }\n",
              "\n",
              "    .dataframe thead th {\n",
              "        text-align: right;\n",
              "    }\n",
              "</style>\n",
              "<table border=\"1\" class=\"dataframe\">\n",
              "  <thead>\n",
              "    <tr style=\"text-align: right;\">\n",
              "      <th></th>\n",
              "      <th>Alter</th>\n",
              "      <th>Beruf</th>\n",
              "      <th>Familienstand</th>\n",
              "      <th>Ausbildung</th>\n",
              "      <th>Ausgefallen</th>\n",
              "      <th>Kontostand</th>\n",
              "      <th>Eigentum</th>\n",
              "      <th>Darlehen</th>\n",
              "      <th>Dauer</th>\n",
              "      <th>Label</th>\n",
              "      <th>0</th>\n",
              "      <th>1</th>\n",
              "      <th>2</th>\n",
              "      <th>3</th>\n",
              "      <th>4</th>\n",
              "      <th>5</th>\n",
              "      <th>6</th>\n",
              "      <th>7</th>\n",
              "      <th>8</th>\n",
              "      <th>9</th>\n",
              "      <th>10</th>\n",
              "      <th>0</th>\n",
              "      <th>1</th>\n",
              "      <th>2</th>\n",
              "      <th>0</th>\n",
              "      <th>1</th>\n",
              "      <th>2</th>\n",
              "      <th>3</th>\n",
              "    </tr>\n",
              "  </thead>\n",
              "  <tbody>\n",
              "    <tr>\n",
              "      <th>0</th>\n",
              "      <td>31</td>\n",
              "      <td>3</td>\n",
              "      <td>2</td>\n",
              "      <td>0</td>\n",
              "      <td>0</td>\n",
              "      <td>162</td>\n",
              "      <td>1</td>\n",
              "      <td>1</td>\n",
              "      <td>0</td>\n",
              "      <td>1</td>\n",
              "      <td>0</td>\n",
              "      <td>0</td>\n",
              "      <td>0</td>\n",
              "      <td>1</td>\n",
              "      <td>0</td>\n",
              "      <td>0</td>\n",
              "      <td>0</td>\n",
              "      <td>0</td>\n",
              "      <td>0</td>\n",
              "      <td>0</td>\n",
              "      <td>0</td>\n",
              "      <td>0</td>\n",
              "      <td>0</td>\n",
              "      <td>1</td>\n",
              "      <td>1</td>\n",
              "      <td>0</td>\n",
              "      <td>0</td>\n",
              "      <td>0</td>\n",
              "    </tr>\n",
              "    <tr>\n",
              "      <th>1</th>\n",
              "      <td>28</td>\n",
              "      <td>2</td>\n",
              "      <td>2</td>\n",
              "      <td>0</td>\n",
              "      <td>0</td>\n",
              "      <td>1595</td>\n",
              "      <td>0</td>\n",
              "      <td>0</td>\n",
              "      <td>1</td>\n",
              "      <td>0</td>\n",
              "      <td>0</td>\n",
              "      <td>0</td>\n",
              "      <td>1</td>\n",
              "      <td>0</td>\n",
              "      <td>0</td>\n",
              "      <td>0</td>\n",
              "      <td>0</td>\n",
              "      <td>0</td>\n",
              "      <td>0</td>\n",
              "      <td>0</td>\n",
              "      <td>0</td>\n",
              "      <td>0</td>\n",
              "      <td>0</td>\n",
              "      <td>1</td>\n",
              "      <td>1</td>\n",
              "      <td>0</td>\n",
              "      <td>0</td>\n",
              "      <td>0</td>\n",
              "    </tr>\n",
              "    <tr>\n",
              "      <th>2</th>\n",
              "      <td>39</td>\n",
              "      <td>9</td>\n",
              "      <td>0</td>\n",
              "      <td>0</td>\n",
              "      <td>0</td>\n",
              "      <td>17441</td>\n",
              "      <td>1</td>\n",
              "      <td>1</td>\n",
              "      <td>1</td>\n",
              "      <td>1</td>\n",
              "      <td>0</td>\n",
              "      <td>0</td>\n",
              "      <td>0</td>\n",
              "      <td>0</td>\n",
              "      <td>0</td>\n",
              "      <td>0</td>\n",
              "      <td>0</td>\n",
              "      <td>0</td>\n",
              "      <td>0</td>\n",
              "      <td>1</td>\n",
              "      <td>0</td>\n",
              "      <td>1</td>\n",
              "      <td>0</td>\n",
              "      <td>0</td>\n",
              "      <td>1</td>\n",
              "      <td>0</td>\n",
              "      <td>0</td>\n",
              "      <td>0</td>\n",
              "    </tr>\n",
              "    <tr>\n",
              "      <th>3</th>\n",
              "      <td>54</td>\n",
              "      <td>1</td>\n",
              "      <td>0</td>\n",
              "      <td>0</td>\n",
              "      <td>0</td>\n",
              "      <td>925</td>\n",
              "      <td>0</td>\n",
              "      <td>0</td>\n",
              "      <td>2</td>\n",
              "      <td>0</td>\n",
              "      <td>0</td>\n",
              "      <td>1</td>\n",
              "      <td>0</td>\n",
              "      <td>0</td>\n",
              "      <td>0</td>\n",
              "      <td>0</td>\n",
              "      <td>0</td>\n",
              "      <td>0</td>\n",
              "      <td>0</td>\n",
              "      <td>0</td>\n",
              "      <td>0</td>\n",
              "      <td>1</td>\n",
              "      <td>0</td>\n",
              "      <td>0</td>\n",
              "      <td>1</td>\n",
              "      <td>0</td>\n",
              "      <td>0</td>\n",
              "      <td>0</td>\n",
              "    </tr>\n",
              "    <tr>\n",
              "      <th>4</th>\n",
              "      <td>24</td>\n",
              "      <td>9</td>\n",
              "      <td>1</td>\n",
              "      <td>0</td>\n",
              "      <td>0</td>\n",
              "      <td>-156</td>\n",
              "      <td>1</td>\n",
              "      <td>0</td>\n",
              "      <td>4</td>\n",
              "      <td>0</td>\n",
              "      <td>0</td>\n",
              "      <td>0</td>\n",
              "      <td>0</td>\n",
              "      <td>0</td>\n",
              "      <td>0</td>\n",
              "      <td>0</td>\n",
              "      <td>0</td>\n",
              "      <td>0</td>\n",
              "      <td>0</td>\n",
              "      <td>1</td>\n",
              "      <td>0</td>\n",
              "      <td>0</td>\n",
              "      <td>1</td>\n",
              "      <td>0</td>\n",
              "      <td>1</td>\n",
              "      <td>0</td>\n",
              "      <td>0</td>\n",
              "      <td>0</td>\n",
              "    </tr>\n",
              "  </tbody>\n",
              "</table>\n",
              "</div>"
            ],
            "text/plain": [
              "   Alter  Beruf  Familienstand  Ausbildung  Ausgefallen  ...  2  0  1  2  3\n",
              "0     31      3              2           0            0  ...  1  1  0  0  0\n",
              "1     28      2              2           0            0  ...  1  1  0  0  0\n",
              "2     39      9              0           0            0  ...  0  1  0  0  0\n",
              "3     54      1              0           0            0  ...  0  1  0  0  0\n",
              "4     24      9              1           0            0  ...  0  1  0  0  0\n",
              "\n",
              "[5 rows x 28 columns]"
            ]
          },
          "metadata": {
            "tags": []
          },
          "execution_count": 22
        }
      ]
    },
    {
      "cell_type": "markdown",
      "metadata": {
        "id": "T7_2iteu8Isj"
      },
      "source": [
        "Hier fügen wir die 3 von mir erstellten Dummy-Datensätze zu dem von uns verwendeten Datensatz hinzu. Nachdem wir die angegebenen Spalten in die gewünschte Form konvertiert haben, müssen wir diese Spalten entfernen.\n",
        "\n",
        "Burada ise oluşturduğum 3 adet dummy data setini kullanmakta olduğumuz data sete ekliyoruz. Belirtilen sütunları istediğimiz şekle dönüştürdüğümüze göre bu sütunlardan kurtulmamız gerekiyor."
      ]
    },
    {
      "cell_type": "code",
      "metadata": {
        "id": "iIineF1B83LA",
        "colab": {
          "base_uri": "https://localhost:8080/"
        },
        "outputId": "ea0de350-4a9f-4a08-8a55-7c2e323aa638"
      },
      "source": [
        "df.drop(['Beruf','Familienstand','Ausbildung'], axis =1 )"
      ],
      "execution_count": null,
      "outputs": [
        {
          "output_type": "execute_result",
          "data": {
            "text/html": [
              "<div>\n",
              "<style scoped>\n",
              "    .dataframe tbody tr th:only-of-type {\n",
              "        vertical-align: middle;\n",
              "    }\n",
              "\n",
              "    .dataframe tbody tr th {\n",
              "        vertical-align: top;\n",
              "    }\n",
              "\n",
              "    .dataframe thead th {\n",
              "        text-align: right;\n",
              "    }\n",
              "</style>\n",
              "<table border=\"1\" class=\"dataframe\">\n",
              "  <thead>\n",
              "    <tr style=\"text-align: right;\">\n",
              "      <th></th>\n",
              "      <th>Alter</th>\n",
              "      <th>Ausgefallen</th>\n",
              "      <th>Kontostand</th>\n",
              "      <th>Eigentum</th>\n",
              "      <th>Darlehen</th>\n",
              "      <th>Dauer</th>\n",
              "      <th>Label</th>\n",
              "      <th>0</th>\n",
              "      <th>1</th>\n",
              "      <th>2</th>\n",
              "      <th>3</th>\n",
              "      <th>4</th>\n",
              "      <th>5</th>\n",
              "      <th>6</th>\n",
              "      <th>7</th>\n",
              "      <th>8</th>\n",
              "      <th>9</th>\n",
              "      <th>10</th>\n",
              "      <th>0</th>\n",
              "      <th>1</th>\n",
              "      <th>2</th>\n",
              "      <th>0</th>\n",
              "      <th>1</th>\n",
              "      <th>2</th>\n",
              "      <th>3</th>\n",
              "    </tr>\n",
              "  </thead>\n",
              "  <tbody>\n",
              "    <tr>\n",
              "      <th>0</th>\n",
              "      <td>31</td>\n",
              "      <td>0</td>\n",
              "      <td>162</td>\n",
              "      <td>1</td>\n",
              "      <td>1</td>\n",
              "      <td>0</td>\n",
              "      <td>1</td>\n",
              "      <td>0</td>\n",
              "      <td>0</td>\n",
              "      <td>0</td>\n",
              "      <td>1</td>\n",
              "      <td>0</td>\n",
              "      <td>0</td>\n",
              "      <td>0</td>\n",
              "      <td>0</td>\n",
              "      <td>0</td>\n",
              "      <td>0</td>\n",
              "      <td>0</td>\n",
              "      <td>0</td>\n",
              "      <td>0</td>\n",
              "      <td>1</td>\n",
              "      <td>1</td>\n",
              "      <td>0</td>\n",
              "      <td>0</td>\n",
              "      <td>0</td>\n",
              "    </tr>\n",
              "    <tr>\n",
              "      <th>1</th>\n",
              "      <td>28</td>\n",
              "      <td>0</td>\n",
              "      <td>1595</td>\n",
              "      <td>0</td>\n",
              "      <td>0</td>\n",
              "      <td>1</td>\n",
              "      <td>0</td>\n",
              "      <td>0</td>\n",
              "      <td>0</td>\n",
              "      <td>1</td>\n",
              "      <td>0</td>\n",
              "      <td>0</td>\n",
              "      <td>0</td>\n",
              "      <td>0</td>\n",
              "      <td>0</td>\n",
              "      <td>0</td>\n",
              "      <td>0</td>\n",
              "      <td>0</td>\n",
              "      <td>0</td>\n",
              "      <td>0</td>\n",
              "      <td>1</td>\n",
              "      <td>1</td>\n",
              "      <td>0</td>\n",
              "      <td>0</td>\n",
              "      <td>0</td>\n",
              "    </tr>\n",
              "    <tr>\n",
              "      <th>2</th>\n",
              "      <td>39</td>\n",
              "      <td>0</td>\n",
              "      <td>17441</td>\n",
              "      <td>1</td>\n",
              "      <td>1</td>\n",
              "      <td>1</td>\n",
              "      <td>1</td>\n",
              "      <td>0</td>\n",
              "      <td>0</td>\n",
              "      <td>0</td>\n",
              "      <td>0</td>\n",
              "      <td>0</td>\n",
              "      <td>0</td>\n",
              "      <td>0</td>\n",
              "      <td>0</td>\n",
              "      <td>0</td>\n",
              "      <td>1</td>\n",
              "      <td>0</td>\n",
              "      <td>1</td>\n",
              "      <td>0</td>\n",
              "      <td>0</td>\n",
              "      <td>1</td>\n",
              "      <td>0</td>\n",
              "      <td>0</td>\n",
              "      <td>0</td>\n",
              "    </tr>\n",
              "    <tr>\n",
              "      <th>3</th>\n",
              "      <td>54</td>\n",
              "      <td>0</td>\n",
              "      <td>925</td>\n",
              "      <td>0</td>\n",
              "      <td>0</td>\n",
              "      <td>2</td>\n",
              "      <td>0</td>\n",
              "      <td>0</td>\n",
              "      <td>1</td>\n",
              "      <td>0</td>\n",
              "      <td>0</td>\n",
              "      <td>0</td>\n",
              "      <td>0</td>\n",
              "      <td>0</td>\n",
              "      <td>0</td>\n",
              "      <td>0</td>\n",
              "      <td>0</td>\n",
              "      <td>0</td>\n",
              "      <td>1</td>\n",
              "      <td>0</td>\n",
              "      <td>0</td>\n",
              "      <td>1</td>\n",
              "      <td>0</td>\n",
              "      <td>0</td>\n",
              "      <td>0</td>\n",
              "    </tr>\n",
              "    <tr>\n",
              "      <th>4</th>\n",
              "      <td>24</td>\n",
              "      <td>0</td>\n",
              "      <td>-156</td>\n",
              "      <td>1</td>\n",
              "      <td>0</td>\n",
              "      <td>4</td>\n",
              "      <td>0</td>\n",
              "      <td>0</td>\n",
              "      <td>0</td>\n",
              "      <td>0</td>\n",
              "      <td>0</td>\n",
              "      <td>0</td>\n",
              "      <td>0</td>\n",
              "      <td>0</td>\n",
              "      <td>0</td>\n",
              "      <td>0</td>\n",
              "      <td>1</td>\n",
              "      <td>0</td>\n",
              "      <td>0</td>\n",
              "      <td>1</td>\n",
              "      <td>0</td>\n",
              "      <td>1</td>\n",
              "      <td>0</td>\n",
              "      <td>0</td>\n",
              "      <td>0</td>\n",
              "    </tr>\n",
              "    <tr>\n",
              "      <th>...</th>\n",
              "      <td>...</td>\n",
              "      <td>...</td>\n",
              "      <td>...</td>\n",
              "      <td>...</td>\n",
              "      <td>...</td>\n",
              "      <td>...</td>\n",
              "      <td>...</td>\n",
              "      <td>...</td>\n",
              "      <td>...</td>\n",
              "      <td>...</td>\n",
              "      <td>...</td>\n",
              "      <td>...</td>\n",
              "      <td>...</td>\n",
              "      <td>...</td>\n",
              "      <td>...</td>\n",
              "      <td>...</td>\n",
              "      <td>...</td>\n",
              "      <td>...</td>\n",
              "      <td>...</td>\n",
              "      <td>...</td>\n",
              "      <td>...</td>\n",
              "      <td>...</td>\n",
              "      <td>...</td>\n",
              "      <td>...</td>\n",
              "      <td>...</td>\n",
              "    </tr>\n",
              "    <tr>\n",
              "      <th>20488</th>\n",
              "      <td>53</td>\n",
              "      <td>0</td>\n",
              "      <td>5603</td>\n",
              "      <td>0</td>\n",
              "      <td>0</td>\n",
              "      <td>2372</td>\n",
              "      <td>1</td>\n",
              "      <td>1</td>\n",
              "      <td>0</td>\n",
              "      <td>0</td>\n",
              "      <td>0</td>\n",
              "      <td>0</td>\n",
              "      <td>0</td>\n",
              "      <td>0</td>\n",
              "      <td>0</td>\n",
              "      <td>0</td>\n",
              "      <td>0</td>\n",
              "      <td>0</td>\n",
              "      <td>0</td>\n",
              "      <td>0</td>\n",
              "      <td>1</td>\n",
              "      <td>0</td>\n",
              "      <td>0</td>\n",
              "      <td>1</td>\n",
              "      <td>0</td>\n",
              "    </tr>\n",
              "    <tr>\n",
              "      <th>20489</th>\n",
              "      <td>50</td>\n",
              "      <td>0</td>\n",
              "      <td>2</td>\n",
              "      <td>0</td>\n",
              "      <td>0</td>\n",
              "      <td>2389</td>\n",
              "      <td>0</td>\n",
              "      <td>0</td>\n",
              "      <td>0</td>\n",
              "      <td>0</td>\n",
              "      <td>0</td>\n",
              "      <td>0</td>\n",
              "      <td>0</td>\n",
              "      <td>0</td>\n",
              "      <td>0</td>\n",
              "      <td>0</td>\n",
              "      <td>1</td>\n",
              "      <td>0</td>\n",
              "      <td>0</td>\n",
              "      <td>1</td>\n",
              "      <td>0</td>\n",
              "      <td>0</td>\n",
              "      <td>1</td>\n",
              "      <td>0</td>\n",
              "      <td>0</td>\n",
              "    </tr>\n",
              "    <tr>\n",
              "      <th>20490</th>\n",
              "      <td>41</td>\n",
              "      <td>0</td>\n",
              "      <td>650</td>\n",
              "      <td>1</td>\n",
              "      <td>0</td>\n",
              "      <td>2420</td>\n",
              "      <td>1</td>\n",
              "      <td>0</td>\n",
              "      <td>0</td>\n",
              "      <td>0</td>\n",
              "      <td>0</td>\n",
              "      <td>0</td>\n",
              "      <td>0</td>\n",
              "      <td>0</td>\n",
              "      <td>0</td>\n",
              "      <td>0</td>\n",
              "      <td>1</td>\n",
              "      <td>0</td>\n",
              "      <td>0</td>\n",
              "      <td>1</td>\n",
              "      <td>0</td>\n",
              "      <td>1</td>\n",
              "      <td>0</td>\n",
              "      <td>0</td>\n",
              "      <td>0</td>\n",
              "    </tr>\n",
              "    <tr>\n",
              "      <th>20491</th>\n",
              "      <td>43</td>\n",
              "      <td>0</td>\n",
              "      <td>3064</td>\n",
              "      <td>1</td>\n",
              "      <td>0</td>\n",
              "      <td>2453</td>\n",
              "      <td>1</td>\n",
              "      <td>1</td>\n",
              "      <td>0</td>\n",
              "      <td>0</td>\n",
              "      <td>0</td>\n",
              "      <td>0</td>\n",
              "      <td>0</td>\n",
              "      <td>0</td>\n",
              "      <td>0</td>\n",
              "      <td>0</td>\n",
              "      <td>0</td>\n",
              "      <td>0</td>\n",
              "      <td>0</td>\n",
              "      <td>0</td>\n",
              "      <td>1</td>\n",
              "      <td>0</td>\n",
              "      <td>0</td>\n",
              "      <td>1</td>\n",
              "      <td>0</td>\n",
              "    </tr>\n",
              "    <tr>\n",
              "      <th>20492</th>\n",
              "      <td>47</td>\n",
              "      <td>0</td>\n",
              "      <td>126</td>\n",
              "      <td>1</td>\n",
              "      <td>0</td>\n",
              "      <td>2456</td>\n",
              "      <td>1</td>\n",
              "      <td>1</td>\n",
              "      <td>0</td>\n",
              "      <td>0</td>\n",
              "      <td>0</td>\n",
              "      <td>0</td>\n",
              "      <td>0</td>\n",
              "      <td>0</td>\n",
              "      <td>0</td>\n",
              "      <td>0</td>\n",
              "      <td>0</td>\n",
              "      <td>0</td>\n",
              "      <td>1</td>\n",
              "      <td>0</td>\n",
              "      <td>0</td>\n",
              "      <td>0</td>\n",
              "      <td>0</td>\n",
              "      <td>1</td>\n",
              "      <td>0</td>\n",
              "    </tr>\n",
              "  </tbody>\n",
              "</table>\n",
              "<p>20490 rows × 25 columns</p>\n",
              "</div>"
            ],
            "text/plain": [
              "       Alter  Ausgefallen  Kontostand  Eigentum  Darlehen  ...  2  0  1  2  3\n",
              "0         31            0         162         1         1  ...  1  1  0  0  0\n",
              "1         28            0        1595         0         0  ...  1  1  0  0  0\n",
              "2         39            0       17441         1         1  ...  0  1  0  0  0\n",
              "3         54            0         925         0         0  ...  0  1  0  0  0\n",
              "4         24            0        -156         1         0  ...  0  1  0  0  0\n",
              "...      ...          ...         ...       ...       ...  ... .. .. .. .. ..\n",
              "20488     53            0        5603         0         0  ...  1  0  0  1  0\n",
              "20489     50            0           2         0         0  ...  0  0  1  0  0\n",
              "20490     41            0         650         1         0  ...  0  1  0  0  0\n",
              "20491     43            0        3064         1         0  ...  1  0  0  1  0\n",
              "20492     47            0         126         1         0  ...  0  0  0  1  0\n",
              "\n",
              "[20490 rows x 25 columns]"
            ]
          },
          "metadata": {
            "tags": []
          },
          "execution_count": 23
        }
      ]
    },
    {
      "cell_type": "markdown",
      "metadata": {
        "id": "abAvrPwvfRT4"
      },
      "source": [
        "Nach dem Hinzufügen von Spalten mit 1 und 0 anstelle dieser 3 Werte sind wir mit diesen Werten fertig.\n",
        "\n",
        "Bu 3 değer yerine 1 ve 0 içeren sütunları ekledikten sonra bu değerler ile işimiz bitti."
      ]
    },
    {
      "cell_type": "code",
      "metadata": {
        "id": "9xCvjXfNBnZj"
      },
      "source": [
        "from sklearn.model_selection import train_test_split\n",
        "X = df.drop(['Label','Beruf','Familienstand','Ausbildung'], axis = 1)\n",
        "y = df['Label']"
      ],
      "execution_count": null,
      "outputs": []
    },
    {
      "cell_type": "markdown",
      "metadata": {
        "id": "AJNsm0BMgEM7"
      },
      "source": [
        "Wir benötigen die x- und y-Werte, um unseren Datensatz auszuführen. Da unsere unabhängige Variable, nämlich unser Zielwert, der 'Label' Wert ist, müssen wir ihn löschen. (Die anderen drei werden oben gelöscht, aber wir müssen ihn hier löschen, da er nicht aufgezeichnet wird.)\n",
        "\n",
        "Data setimizi çalıştıracağımız x ve y değerlerine ihtiyacımız var. Bağımsız değişkenimiz yani hedef değerimiz label değeri olduğu için bunu droplamamız lazım.(Diğer üçlü üstte droplanıyor ama kayıt edilmediği için burada da droplamamız lazım)"
      ]
    },
    {
      "cell_type": "code",
      "metadata": {
        "id": "JQ9jPaCNBpsf"
      },
      "source": [
        "X_train, X_test, y_train, y_test = train_test_split(X, y, test_size = 0.3)"
      ],
      "execution_count": null,
      "outputs": []
    },
    {
      "cell_type": "markdown",
      "metadata": {
        "id": "Jj2ayx5ugmAI"
      },
      "source": [
        "X_test ist der Teil, den wir in den Algorithmus einfügen und lehren werden, X_train ist der Teil, an dem dieser Algorithmus arbeiten wird, y_train ist der Teil mit abhängigen Variablen, die sich auf X_train beziehen, und y_test ist der Teil, an dem sich die abhängigen Variablen beziehen, die sich auf X_test beziehen. test_size = nimmt einen Wert zwischen 0 und 1 an und bestimmt entsprechend dem Wert, der verwendet wird, wie viel Prozent dieses Datensatzes funktionieren.\n",
        "\n",
        "X_test algoritmaya sokup öğreteceğimiz kısım, X_train bu algoritmanın üzerinde çalışacağı kısmı, y_train X_train ile alakalı bağımlı değişkenlerin olduğu kısım, y_test de X_test ile alakalı bağımlı değişkenlerin olduğu kısım. test_size= 0 ve 1 arasında 1 değer alır aldığı değere göre bu data set'in % kaçı ile çalışacağını belirler"
      ]
    },
    {
      "cell_type": "code",
      "metadata": {
        "id": "3IK7_HtfBr5X",
        "colab": {
          "base_uri": "https://localhost:8080/"
        },
        "outputId": "cc0c4d66-717a-4918-cbf3-019738875e9d"
      },
      "source": [
        "X_train.shape"
      ],
      "execution_count": null,
      "outputs": [
        {
          "output_type": "execute_result",
          "data": {
            "text/plain": [
              "(14343, 24)"
            ]
          },
          "metadata": {
            "tags": []
          },
          "execution_count": 26
        }
      ]
    },
    {
      "cell_type": "code",
      "metadata": {
        "id": "u7caT6jUiWJj",
        "colab": {
          "base_uri": "https://localhost:8080/"
        },
        "outputId": "b46ed9b1-cd5a-41f7-928f-5e440597d5c4"
      },
      "source": [
        "X_train"
      ],
      "execution_count": null,
      "outputs": [
        {
          "output_type": "execute_result",
          "data": {
            "text/html": [
              "<div>\n",
              "<style scoped>\n",
              "    .dataframe tbody tr th:only-of-type {\n",
              "        vertical-align: middle;\n",
              "    }\n",
              "\n",
              "    .dataframe tbody tr th {\n",
              "        vertical-align: top;\n",
              "    }\n",
              "\n",
              "    .dataframe thead th {\n",
              "        text-align: right;\n",
              "    }\n",
              "</style>\n",
              "<table border=\"1\" class=\"dataframe\">\n",
              "  <thead>\n",
              "    <tr style=\"text-align: right;\">\n",
              "      <th></th>\n",
              "      <th>Alter</th>\n",
              "      <th>Ausgefallen</th>\n",
              "      <th>Kontostand</th>\n",
              "      <th>Eigentum</th>\n",
              "      <th>Darlehen</th>\n",
              "      <th>Dauer</th>\n",
              "      <th>0</th>\n",
              "      <th>1</th>\n",
              "      <th>2</th>\n",
              "      <th>3</th>\n",
              "      <th>4</th>\n",
              "      <th>5</th>\n",
              "      <th>6</th>\n",
              "      <th>7</th>\n",
              "      <th>8</th>\n",
              "      <th>9</th>\n",
              "      <th>10</th>\n",
              "      <th>0</th>\n",
              "      <th>1</th>\n",
              "      <th>2</th>\n",
              "      <th>0</th>\n",
              "      <th>1</th>\n",
              "      <th>2</th>\n",
              "      <th>3</th>\n",
              "    </tr>\n",
              "  </thead>\n",
              "  <tbody>\n",
              "    <tr>\n",
              "      <th>5165</th>\n",
              "      <td>44</td>\n",
              "      <td>0</td>\n",
              "      <td>3060</td>\n",
              "      <td>1</td>\n",
              "      <td>0</td>\n",
              "      <td>113</td>\n",
              "      <td>1</td>\n",
              "      <td>0</td>\n",
              "      <td>0</td>\n",
              "      <td>0</td>\n",
              "      <td>0</td>\n",
              "      <td>0</td>\n",
              "      <td>0</td>\n",
              "      <td>0</td>\n",
              "      <td>0</td>\n",
              "      <td>0</td>\n",
              "      <td>0</td>\n",
              "      <td>0</td>\n",
              "      <td>0</td>\n",
              "      <td>1</td>\n",
              "      <td>1</td>\n",
              "      <td>0</td>\n",
              "      <td>0</td>\n",
              "      <td>0</td>\n",
              "    </tr>\n",
              "    <tr>\n",
              "      <th>3462</th>\n",
              "      <td>28</td>\n",
              "      <td>0</td>\n",
              "      <td>205</td>\n",
              "      <td>0</td>\n",
              "      <td>0</td>\n",
              "      <td>87</td>\n",
              "      <td>0</td>\n",
              "      <td>0</td>\n",
              "      <td>0</td>\n",
              "      <td>0</td>\n",
              "      <td>0</td>\n",
              "      <td>0</td>\n",
              "      <td>0</td>\n",
              "      <td>0</td>\n",
              "      <td>1</td>\n",
              "      <td>0</td>\n",
              "      <td>0</td>\n",
              "      <td>0</td>\n",
              "      <td>1</td>\n",
              "      <td>0</td>\n",
              "      <td>1</td>\n",
              "      <td>0</td>\n",
              "      <td>0</td>\n",
              "      <td>0</td>\n",
              "    </tr>\n",
              "    <tr>\n",
              "      <th>8972</th>\n",
              "      <td>44</td>\n",
              "      <td>0</td>\n",
              "      <td>12392</td>\n",
              "      <td>1</td>\n",
              "      <td>0</td>\n",
              "      <td>177</td>\n",
              "      <td>0</td>\n",
              "      <td>0</td>\n",
              "      <td>0</td>\n",
              "      <td>0</td>\n",
              "      <td>0</td>\n",
              "      <td>0</td>\n",
              "      <td>0</td>\n",
              "      <td>0</td>\n",
              "      <td>0</td>\n",
              "      <td>0</td>\n",
              "      <td>1</td>\n",
              "      <td>0</td>\n",
              "      <td>0</td>\n",
              "      <td>1</td>\n",
              "      <td>0</td>\n",
              "      <td>1</td>\n",
              "      <td>0</td>\n",
              "      <td>0</td>\n",
              "    </tr>\n",
              "    <tr>\n",
              "      <th>9993</th>\n",
              "      <td>41</td>\n",
              "      <td>0</td>\n",
              "      <td>243</td>\n",
              "      <td>1</td>\n",
              "      <td>0</td>\n",
              "      <td>199</td>\n",
              "      <td>0</td>\n",
              "      <td>0</td>\n",
              "      <td>0</td>\n",
              "      <td>0</td>\n",
              "      <td>0</td>\n",
              "      <td>0</td>\n",
              "      <td>0</td>\n",
              "      <td>0</td>\n",
              "      <td>0</td>\n",
              "      <td>0</td>\n",
              "      <td>1</td>\n",
              "      <td>0</td>\n",
              "      <td>0</td>\n",
              "      <td>1</td>\n",
              "      <td>0</td>\n",
              "      <td>0</td>\n",
              "      <td>1</td>\n",
              "      <td>0</td>\n",
              "    </tr>\n",
              "    <tr>\n",
              "      <th>19897</th>\n",
              "      <td>47</td>\n",
              "      <td>0</td>\n",
              "      <td>86</td>\n",
              "      <td>0</td>\n",
              "      <td>0</td>\n",
              "      <td>1086</td>\n",
              "      <td>0</td>\n",
              "      <td>0</td>\n",
              "      <td>0</td>\n",
              "      <td>0</td>\n",
              "      <td>0</td>\n",
              "      <td>0</td>\n",
              "      <td>0</td>\n",
              "      <td>0</td>\n",
              "      <td>0</td>\n",
              "      <td>0</td>\n",
              "      <td>1</td>\n",
              "      <td>0</td>\n",
              "      <td>1</td>\n",
              "      <td>0</td>\n",
              "      <td>0</td>\n",
              "      <td>1</td>\n",
              "      <td>0</td>\n",
              "      <td>0</td>\n",
              "    </tr>\n",
              "    <tr>\n",
              "      <th>...</th>\n",
              "      <td>...</td>\n",
              "      <td>...</td>\n",
              "      <td>...</td>\n",
              "      <td>...</td>\n",
              "      <td>...</td>\n",
              "      <td>...</td>\n",
              "      <td>...</td>\n",
              "      <td>...</td>\n",
              "      <td>...</td>\n",
              "      <td>...</td>\n",
              "      <td>...</td>\n",
              "      <td>...</td>\n",
              "      <td>...</td>\n",
              "      <td>...</td>\n",
              "      <td>...</td>\n",
              "      <td>...</td>\n",
              "      <td>...</td>\n",
              "      <td>...</td>\n",
              "      <td>...</td>\n",
              "      <td>...</td>\n",
              "      <td>...</td>\n",
              "      <td>...</td>\n",
              "      <td>...</td>\n",
              "      <td>...</td>\n",
              "    </tr>\n",
              "    <tr>\n",
              "      <th>20297</th>\n",
              "      <td>49</td>\n",
              "      <td>0</td>\n",
              "      <td>3</td>\n",
              "      <td>0</td>\n",
              "      <td>1</td>\n",
              "      <td>1439</td>\n",
              "      <td>1</td>\n",
              "      <td>0</td>\n",
              "      <td>0</td>\n",
              "      <td>0</td>\n",
              "      <td>0</td>\n",
              "      <td>0</td>\n",
              "      <td>0</td>\n",
              "      <td>0</td>\n",
              "      <td>0</td>\n",
              "      <td>0</td>\n",
              "      <td>0</td>\n",
              "      <td>0</td>\n",
              "      <td>0</td>\n",
              "      <td>1</td>\n",
              "      <td>0</td>\n",
              "      <td>0</td>\n",
              "      <td>1</td>\n",
              "      <td>0</td>\n",
              "    </tr>\n",
              "    <tr>\n",
              "      <th>5400</th>\n",
              "      <td>31</td>\n",
              "      <td>0</td>\n",
              "      <td>623</td>\n",
              "      <td>0</td>\n",
              "      <td>0</td>\n",
              "      <td>117</td>\n",
              "      <td>0</td>\n",
              "      <td>0</td>\n",
              "      <td>0</td>\n",
              "      <td>0</td>\n",
              "      <td>0</td>\n",
              "      <td>0</td>\n",
              "      <td>0</td>\n",
              "      <td>0</td>\n",
              "      <td>0</td>\n",
              "      <td>0</td>\n",
              "      <td>1</td>\n",
              "      <td>0</td>\n",
              "      <td>1</td>\n",
              "      <td>0</td>\n",
              "      <td>0</td>\n",
              "      <td>1</td>\n",
              "      <td>0</td>\n",
              "      <td>0</td>\n",
              "    </tr>\n",
              "    <tr>\n",
              "      <th>18769</th>\n",
              "      <td>32</td>\n",
              "      <td>0</td>\n",
              "      <td>562</td>\n",
              "      <td>1</td>\n",
              "      <td>0</td>\n",
              "      <td>722</td>\n",
              "      <td>0</td>\n",
              "      <td>0</td>\n",
              "      <td>0</td>\n",
              "      <td>0</td>\n",
              "      <td>0</td>\n",
              "      <td>0</td>\n",
              "      <td>0</td>\n",
              "      <td>0</td>\n",
              "      <td>0</td>\n",
              "      <td>1</td>\n",
              "      <td>0</td>\n",
              "      <td>0</td>\n",
              "      <td>1</td>\n",
              "      <td>0</td>\n",
              "      <td>1</td>\n",
              "      <td>0</td>\n",
              "      <td>0</td>\n",
              "      <td>0</td>\n",
              "    </tr>\n",
              "    <tr>\n",
              "      <th>5418</th>\n",
              "      <td>26</td>\n",
              "      <td>0</td>\n",
              "      <td>5005</td>\n",
              "      <td>0</td>\n",
              "      <td>1</td>\n",
              "      <td>117</td>\n",
              "      <td>1</td>\n",
              "      <td>0</td>\n",
              "      <td>0</td>\n",
              "      <td>0</td>\n",
              "      <td>0</td>\n",
              "      <td>0</td>\n",
              "      <td>0</td>\n",
              "      <td>0</td>\n",
              "      <td>0</td>\n",
              "      <td>0</td>\n",
              "      <td>0</td>\n",
              "      <td>0</td>\n",
              "      <td>1</td>\n",
              "      <td>0</td>\n",
              "      <td>1</td>\n",
              "      <td>0</td>\n",
              "      <td>0</td>\n",
              "      <td>0</td>\n",
              "    </tr>\n",
              "    <tr>\n",
              "      <th>11898</th>\n",
              "      <td>33</td>\n",
              "      <td>0</td>\n",
              "      <td>543</td>\n",
              "      <td>1</td>\n",
              "      <td>0</td>\n",
              "      <td>244</td>\n",
              "      <td>0</td>\n",
              "      <td>0</td>\n",
              "      <td>1</td>\n",
              "      <td>0</td>\n",
              "      <td>0</td>\n",
              "      <td>0</td>\n",
              "      <td>0</td>\n",
              "      <td>0</td>\n",
              "      <td>0</td>\n",
              "      <td>0</td>\n",
              "      <td>0</td>\n",
              "      <td>0</td>\n",
              "      <td>0</td>\n",
              "      <td>1</td>\n",
              "      <td>1</td>\n",
              "      <td>0</td>\n",
              "      <td>0</td>\n",
              "      <td>0</td>\n",
              "    </tr>\n",
              "  </tbody>\n",
              "</table>\n",
              "<p>14343 rows × 24 columns</p>\n",
              "</div>"
            ],
            "text/plain": [
              "       Alter  Ausgefallen  Kontostand  Eigentum  Darlehen  ...  2  0  1  2  3\n",
              "5165      44            0        3060         1         0  ...  1  1  0  0  0\n",
              "3462      28            0         205         0         0  ...  0  1  0  0  0\n",
              "8972      44            0       12392         1         0  ...  1  0  1  0  0\n",
              "9993      41            0         243         1         0  ...  1  0  0  1  0\n",
              "19897     47            0          86         0         0  ...  0  0  1  0  0\n",
              "...      ...          ...         ...       ...       ...  ... .. .. .. .. ..\n",
              "20297     49            0           3         0         1  ...  1  0  0  1  0\n",
              "5400      31            0         623         0         0  ...  0  0  1  0  0\n",
              "18769     32            0         562         1         0  ...  0  1  0  0  0\n",
              "5418      26            0        5005         0         1  ...  0  1  0  0  0\n",
              "11898     33            0         543         1         0  ...  1  1  0  0  0\n",
              "\n",
              "[14343 rows x 24 columns]"
            ]
          },
          "metadata": {
            "tags": []
          },
          "execution_count": 27
        }
      ]
    },
    {
      "cell_type": "markdown",
      "metadata": {
        "id": "9my58xqrkTvj"
      },
      "source": [
        "Als letzten Schritt müssen wir Feature Scalling durchführen. Wie aus der Tabelle hervorgeht, gibt es in der Bank einen Größenunterschied zwischen Alter und Geld. Zum Beispiel gibt es gravierende Unterschiede zwischen dem Alter von 34 bis 37 und dem Geld zwischen 171 und 681. Ein Wert kann den anderen Wert dominieren, wir müssen dies vermeiden. Dies ist in unserem Algorithmus problematisch, da die meisten Algorithmen für maschinelles Lernen euklidische Entfernungen verwenden. Wir müssen diese Werte erneut skalieren.\n",
        "\n",
        "Son Adım olarak ise Feature Scalling yani Özellik Ölçeklendirme yapmamız lazım. Tablodan da görüldüğü üzere Yaş ve Bankadaki para arasında ölçek farkı var. Örneğin Yaşlar arasında 34 - 37, Para arasında 171 - 681 ciddi farklar var. Bir değer diğer değeri domine edebilir bunun önüne geçmemiz lazım. Bu algoritmamızda sıkıntı yaratıcak çünkü çoğu makine öğrenmesi algoritması öklid mesafesi kullanılır. Bu değerleri tekrar ölçeklendirmemiz lazım"
      ]
    },
    {
      "cell_type": "markdown",
      "metadata": {
        "id": "MkXQEK9_lcp7"
      },
      "source": [
        "![picture](https://hackernoon.com/hn-images/1*Ud6qCIDqDEn5k_q3YTaP1g.png)"
      ]
    },
    {
      "cell_type": "code",
      "metadata": {
        "id": "_5ru6OQOBtbM",
        "colab": {
          "base_uri": "https://localhost:8080/"
        },
        "outputId": "93bc289a-ec09-4cce-8360-05d3ef5507a2"
      },
      "source": [
        "X_test.shape"
      ],
      "execution_count": null,
      "outputs": [
        {
          "output_type": "execute_result",
          "data": {
            "text/plain": [
              "(6147, 24)"
            ]
          },
          "metadata": {
            "tags": []
          },
          "execution_count": 28
        }
      ]
    },
    {
      "cell_type": "code",
      "metadata": {
        "id": "dWr2ZUFkBva_",
        "colab": {
          "base_uri": "https://localhost:8080/"
        },
        "outputId": "2793242b-db35-4149-cc89-a85fd7803050"
      },
      "source": [
        "y_train.shape"
      ],
      "execution_count": null,
      "outputs": [
        {
          "output_type": "execute_result",
          "data": {
            "text/plain": [
              "(14343,)"
            ]
          },
          "metadata": {
            "tags": []
          },
          "execution_count": 29
        }
      ]
    },
    {
      "cell_type": "code",
      "metadata": {
        "id": "Z6F_FI5mBxM1",
        "colab": {
          "base_uri": "https://localhost:8080/"
        },
        "outputId": "a8f9de0d-fab1-48db-d8fa-23ab63ed3ba4"
      },
      "source": [
        "y_test.shape"
      ],
      "execution_count": null,
      "outputs": [
        {
          "output_type": "execute_result",
          "data": {
            "text/plain": [
              "(6147,)"
            ]
          },
          "metadata": {
            "tags": []
          },
          "execution_count": 30
        }
      ]
    },
    {
      "cell_type": "code",
      "metadata": {
        "id": "ZSQMpDw5h8s5"
      },
      "source": [
        "from sklearn.preprocessing import StandardScaler\n",
        "standard_X = StandardScaler()"
      ],
      "execution_count": null,
      "outputs": []
    },
    {
      "cell_type": "code",
      "metadata": {
        "id": "S-VG0KJxiMtT"
      },
      "source": [
        "X_train = standard_X.fit_transform(X_train)\n",
        "X_test = standard_X.fit_transform(X_test)"
      ],
      "execution_count": null,
      "outputs": []
    },
    {
      "cell_type": "markdown",
      "metadata": {
        "id": "Hc9hIIrCkOM6"
      },
      "source": [
        "Es gibt auch 3 Skalen, wenn wir uns Wikipedia ansehen\n",
        "- Min-Max-Normalisierung\n",
        "- mittlere Normalisierung\n",
        "- Standardisierung\n",
        "\n",
        "Wikipedia'dan da baktığımız da 3 adet yeniden ölçeklendirme var \n",
        "- min-max normalization\n",
        "- mean normalization\n",
        "- standardization"
      ]
    },
    {
      "cell_type": "markdown",
      "metadata": {
        "id": "5QLLu2L9mS5s"
      },
      "source": [
        "![picture](https://www.oreilly.com/library/view/hands-on-machine-learning/9781788393485/assets/7a9d8cb9-10f7-43b5-b52f-865fbbb0b69e.png)\n",
        "\n",
        "\n",
        "\n",
        "Xscale = neuer x-Wert\n",
        "x = unser Wert in der Tabelle\n",
        "Mittelwert = Mittelwert des x-Wertes\n",
        "df = Standardabweichung\n",
        "Wendet diese Formel für jeden Wert in dieser Operation an.\n",
        "\n",
        "\n",
        "Xscale = yeni x değeri\n",
        "x = tablodaki değerimiz\n",
        "mean = x değerinin ortalaması\n",
        "sd = standart sapma\n",
        "Bu formülü bu işlemde her bir değer için uygular"
      ]
    },
    {
      "cell_type": "code",
      "metadata": {
        "id": "kBwzG7hzjyyi",
        "colab": {
          "base_uri": "https://localhost:8080/"
        },
        "outputId": "3efa9b9e-f45e-428f-eec0-0dcd57a7c14a"
      },
      "source": [
        "X_train.shape"
      ],
      "execution_count": null,
      "outputs": [
        {
          "output_type": "execute_result",
          "data": {
            "text/plain": [
              "(14343, 24)"
            ]
          },
          "metadata": {
            "tags": []
          },
          "execution_count": 33
        }
      ]
    },
    {
      "cell_type": "code",
      "metadata": {
        "id": "atrlNY8pj4_o",
        "colab": {
          "base_uri": "https://localhost:8080/"
        },
        "outputId": "9ee15596-772f-4c95-e497-1cc01a080c9e"
      },
      "source": [
        "X_train"
      ],
      "execution_count": null,
      "outputs": [
        {
          "output_type": "execute_result",
          "data": {
            "text/plain": [
              "array([[ 0.43524922, -0.11399679,  0.67769835, ..., -0.69185244,\n",
              "        -0.38050506, -0.20380521],\n",
              "       [-1.11727067, -0.11399679, -0.51562897, ..., -0.69185244,\n",
              "        -0.38050506, -0.20380521],\n",
              "       [ 0.43524922, -0.11399679,  4.5782695 , ...,  1.44539492,\n",
              "        -0.38050506, -0.20380521],\n",
              "       ...,\n",
              "       [-0.7291407 , -0.11399679, -0.36641081, ..., -0.69185244,\n",
              "        -0.38050506, -0.20380521],\n",
              "       [-1.31133566, -0.11399679,  1.49066566, ..., -0.69185244,\n",
              "        -0.38050506, -0.20380521],\n",
              "       [-0.63210821, -0.11399679, -0.37435239, ..., -0.69185244,\n",
              "        -0.38050506, -0.20380521]])"
            ]
          },
          "metadata": {
            "tags": []
          },
          "execution_count": 34
        }
      ]
    },
    {
      "cell_type": "markdown",
      "metadata": {
        "id": "OXjzYcnsmulu"
      },
      "source": [
        "Wie Sie sehen, hat sich die Anzahl unserer Daten nicht geändert, aber unsere Werte wurden standardisiert, damit wir ein genaueres Ergebnis erhalten.\n",
        "\n",
        "Görüldüğü üzere datamızın sayısında herhangi bir değişme olmadı ama değerlerimize Standardizasyon uygulandı böylece daha doğru bir oranda sonuç elde edebileceğiz"
      ]
    },
    {
      "cell_type": "markdown",
      "metadata": {
        "id": "JcVjfE89rpWH"
      },
      "source": [
        "## Modelling\n"
      ]
    },
    {
      "cell_type": "code",
      "metadata": {
        "id": "oUpEr4Q2BzN3",
        "colab": {
          "base_uri": "https://localhost:8080/"
        },
        "outputId": "f5eb2c03-6c44-4080-860c-0c57eab2b99b"
      },
      "source": [
        "from sklearn.ensemble import RandomForestClassifier\n",
        "model_rf = RandomForestClassifier(random_state= 4711, n_estimators=200,max_depth=4)\n",
        "model_rf.fit(X_train, y_train)"
      ],
      "execution_count": null,
      "outputs": [
        {
          "output_type": "execute_result",
          "data": {
            "text/plain": [
              "RandomForestClassifier(bootstrap=True, ccp_alpha=0.0, class_weight=None,\n",
              "                       criterion='gini', max_depth=4, max_features='auto',\n",
              "                       max_leaf_nodes=None, max_samples=None,\n",
              "                       min_impurity_decrease=0.0, min_impurity_split=None,\n",
              "                       min_samples_leaf=1, min_samples_split=2,\n",
              "                       min_weight_fraction_leaf=0.0, n_estimators=200,\n",
              "                       n_jobs=None, oob_score=False, random_state=4711,\n",
              "                       verbose=0, warm_start=False)"
            ]
          },
          "metadata": {
            "tags": []
          },
          "execution_count": 35
        }
      ]
    },
    {
      "cell_type": "markdown",
      "metadata": {
        "id": "K9FUTUijZXUG"
      },
      "source": [
        "In diesem Schritt nennen wir den Random Forest-Algorithmus, den wir bei der Modellierung verwenden werden. random_state = weist an, mit dem Lesen der Daten aus der darin zugewiesenen Zeile zu beginnen, nicht aus der ersten Zeile. n_estimators = bestimmt die Anzahl der Bäume in unserem Algorithmus, dh die Anzahl der Beobachter. Der Parameter zeigt die Verzweigung des Suchbaums max_depth\n",
        "\n",
        "Bu adımda modellemede kullanacağımız algoritma olan random forest algoritmasını çağırıyoruz. random_state = datayı okumaya 1. satırdan değil de içine atanan satırdan başlanmasını söylüyor, n_estimators= algoritmamızdaki ağaç sayısını yani gözlemci sayısını belirler, max_depth search tree'nin dallanmasını gösteren parametre"
      ]
    },
    {
      "cell_type": "code",
      "metadata": {
        "id": "oZuMu3WmB2pT",
        "colab": {
          "base_uri": "https://localhost:8080/"
        },
        "outputId": "7d32862d-7de8-4eb8-a06d-eadfc0ef80ef"
      },
      "source": [
        "model_rf.score(X_test,y_test)"
      ],
      "execution_count": null,
      "outputs": [
        {
          "output_type": "execute_result",
          "data": {
            "text/plain": [
              "0.7615096795184643"
            ]
          },
          "metadata": {
            "tags": []
          },
          "execution_count": 36
        }
      ]
    },
    {
      "cell_type": "markdown",
      "metadata": {
        "id": "rKLGfe0yZ2Dm"
      },
      "source": [
        "Es zeigt die prozentuale Erfolgsrate unseres Modells nach seiner Inbetriebnahme. Accuracy zeigt unsere Beständigkeit.\n",
        "\n",
        "Verilen modelimizin işleme sokulduktan sonra % kaç başarı ile çalıştığını gösterir. Accuracy yani tutarlılığımızı gösteriyor."
      ]
    },
    {
      "cell_type": "code",
      "metadata": {
        "id": "SUtKhLDvB3KP"
      },
      "source": [
        "y_predicted = model_rf.predict(X_test)\n"
      ],
      "execution_count": null,
      "outputs": []
    },
    {
      "cell_type": "markdown",
      "metadata": {
        "id": "Ybvl1xvGZ7Lk"
      },
      "source": [
        "In diesem Schritt setzen wir das erwartete Ergebnis in y_predicted.\n",
        "\n",
        "Bu adımda aslında çıkması gereken sonucu y_predicted yani önceden beklenen değer içine atıyoruz"
      ]
    },
    {
      "cell_type": "code",
      "metadata": {
        "id": "iYORVBogB5Rs",
        "colab": {
          "base_uri": "https://localhost:8080/"
        },
        "outputId": "dfed22b5-df64-4be8-92fd-e0ab44e66a58"
      },
      "source": [
        "from sklearn.metrics import confusion_matrix\n",
        "cm = confusion_matrix(y_test, y_predicted)\n",
        "cm"
      ],
      "execution_count": null,
      "outputs": [
        {
          "output_type": "execute_result",
          "data": {
            "text/plain": [
              "array([[4657,    4],\n",
              "       [1462,   24]])"
            ]
          },
          "metadata": {
            "tags": []
          },
          "execution_count": 38
        }
      ]
    },
    {
      "cell_type": "markdown",
      "metadata": {
        "id": "WgEgKAZTaETU"
      },
      "source": [
        "In diesem Schritt sehen wir, wie unsere Matrix die erwarteten und empfangenen Ergebnisse vergleicht.\n",
        "\n",
        "Bu adımda hata matrisimizin beklenen ve alınan sonucu karşılaştırmasını görüyoruz"
      ]
    },
    {
      "cell_type": "code",
      "metadata": {
        "id": "6ro2iqkQB7e6",
        "colab": {
          "base_uri": "https://localhost:8080/"
        },
        "outputId": "5c09359b-b887-4f9e-8678-8fdcf4202241"
      },
      "source": [
        "%matplotlib inline\n",
        "import matplotlib.pyplot as plt\n",
        "import seaborn as sn\n",
        "plt.figure(figsize=(10,7))\n",
        "sn.heatmap(cm, annot=True)\n",
        "plt.xlabel('Predicted')\n",
        "plt.ylabel('Truth')"
      ],
      "execution_count": null,
      "outputs": [
        {
          "output_type": "execute_result",
          "data": {
            "text/plain": [
              "Text(69.0, 0.5, 'Truth')"
            ]
          },
          "metadata": {
            "tags": []
          },
          "execution_count": 39
        },
        {
          "output_type": "display_data",
          "data": {
            "image/png": "[encoded data removed]",
            "text/plain": [
              "<Figure size 720x504 with 2 Axes>"
            ]
          },
          "metadata": {
            "tags": [],
            "needs_background": "light"
          }
        }
      ]
    },
    {
      "cell_type": "markdown",
      "metadata": {
        "id": "R31MGEVTlKND"
      },
      "source": [
        "Der Modellierungsprozess ist ein wichtiger Schritt, damit wir sehen können, welches Modell für den gewünschten Job am besten geeignet und welches konsistenter ist.\n",
        "\n",
        "Modelling işlemi önemli bir adım, bu sayede istenilen işe en uygun modelin hangisi olduğu ve hangisinin daha tutarlı olup olmadığını görebiliriz."
      ]
    },
    {
      "cell_type": "code",
      "metadata": {
        "id": "qIr7-ZRsV49_"
      },
      "source": [
        "from sklearn.svm import SVC\n",
        "model_SVC = SVC(kernel = 'linear', random_state=4711)\n",
        "model_SVC.fit(X_train, y_train)\n",
        "\n",
        "y_pred_svm = model_SVC.decision_function(X_test) "
      ],
      "execution_count": null,
      "outputs": []
    },
    {
      "cell_type": "markdown",
      "metadata": {
        "id": "e7rbk-RomA6n"
      },
      "source": [
        "Support-Vektor-Maschinen sind überwachte Lernmodelle mit zugehörigen Lernalgorithmen, die Daten für die Klassifizierungs- und Regressionsanalyse analysieren. Der Prozess, den wir hier durchführen, besteht darin, eine andere Modellierung gemäß den uns gegebenen Daten zu messen. Was wir in y_pred_svm tun, ist die Bestimmung des Abstands jeder der Daten in X_test zu den Daten in der Ebene, die wir über entscheidungsfunktion durchgeführt haben.\n",
        "\n",
        "Destek vektör makineleri, sınıflandırma ve regresyon analizi için verileri analiz eden ilişkili öğrenme algoritmalarına sahip denetimli öğrenme modelleridir. Burada yaptığımız işlem ise bir başka modellemeyi bize verilen datasete uygunluğunu ölçmektir. y_pred_svm'de yaptığımız şey X_testteki verilerinin her birisininin decision_function aracılığı ile yapmış olduğumuz düzlemdeki verilere olan uzaklığının tespitidir."
      ]
    },
    {
      "cell_type": "markdown",
      "metadata": {
        "id": "jZtdWuCsaTH8"
      },
      "source": [
        "Visualisierung der Matrix, die wir im vorherigen Schritt gezeichnet haben\n",
        "\n",
        "Bir önceki adımda çizmiş olduğumuz matrisin görselleştirilmiş hali"
      ]
    },
    {
      "cell_type": "code",
      "metadata": {
        "id": "mfsJMsRceaex"
      },
      "source": [
        "from sklearn.linear_model import LogisticRegression\n",
        "model_logistic = LogisticRegression()\n",
        "model_logistic.fit(X_train, y_train)\n",
        "\n",
        "y_pred_logistic = model_logistic.decision_function(X_test)"
      ],
      "execution_count": null,
      "outputs": []
    },
    {
      "cell_type": "markdown",
      "metadata": {
        "id": "xe-nQGQAnAXn"
      },
      "source": [
        "Wir wenden den gleichen Prozess wie oben für eine andere Form der Modellierung an, die logistische Regression.\n",
        "\n",
        "Yukarıda yaptığımız işlemin aynısını bir diğer modelleme biçimi olan Lojistik Regresyon için uyguluyoruz"
      ]
    },
    {
      "cell_type": "code",
      "metadata": {
        "id": "pdBg4d2tfikj",
        "colab": {
          "base_uri": "https://localhost:8080/"
        },
        "outputId": "199d3619-6bae-4c43-cf40-059c3dd1fcc5"
      },
      "source": [
        "from sklearn.metrics import roc_curve, auc\n",
        "\n",
        "logistic_fpr, logistic_tpr, treshold = roc_curve(y_test, y_pred_logistic)\n",
        "auc_logistic = auc(logistic_fpr, logistic_tpr)\n",
        "\n",
        "svm_fpr, svm_tpr, treshold = roc_curve(y_test, y_pred_svm)\n",
        "auc_svm = auc(svm_fpr, svm_tpr)\n",
        "\n",
        "\n",
        "\n",
        "plt.figure(figsize=(6,6), dpi=100)\n",
        "plt.plot(svm_fpr, svm_tpr, linestyle='-', label= 'SVM (auc = %0.4f)' %auc_svm )\n",
        "plt.plot(logistic_fpr, logistic_tpr, marker='.', label='Logistic (auc = %0.4f)' % auc_logistic)\n",
        "\n",
        "\n",
        "\n",
        "plt.xlabel('FPR')\n",
        "plt.ylabel('TPR')\n",
        "\n",
        "plt.legend()\n",
        "plt.show()"
      ],
      "execution_count": null,
      "outputs": [
        {
          "output_type": "display_data",
          "data": {
            "image/png": "[encoded data removed]",
            "text/plain": [
              "<Figure size 600x600 with 1 Axes>"
            ]
          },
          "metadata": {
            "tags": [],
            "needs_background": "light"
          }
        }
      ]
    },
    {
      "cell_type": "markdown",
      "metadata": {
        "id": "qf-QlL4DnJWl"
      },
      "source": [
        "TPR wird verwendet, um den Prozentsatz der korrekt identifizierten echten Positiven zu messen.\n",
        "FPR ist die Wahrscheinlichkeit, die Nullhypothese für einen bestimmten Test falsch abzulehnen.\n",
        "Die Klassifizierung kann unter der Bedingung erfolgen, dass sie bei einem bestimmten Wert, der als Schwellenwert bezeichnet wird, unter oder über diesem Wert liegt.\n",
        "Das von uns kurz gezeichnete ROC-Diagramm entspricht dem für jeden Trashold-Wert erstellten Verwirrungsmatrixwert.\n",
        "Der AUC-Wert entspricht der Fläche unter dem gezeichneten Diagramm. Mit anderen Worten, je genauer unser Diagramm gezeichnet wird, desto höher ist unser auc-Wert aufgrund der Fläche. Dies gilt auch für das Gegenteil. Je größer unser auc-Wert ist, desto genauer ist das von uns gezeichnete Diagramm.\n",
        "Im ersten Schritt vergleichen wir zunächst die beiden reellen Werte, die wir zur Bestimmung dieser beiden Werte erhalten haben.\n",
        "Im nächsten Schritt wird die Fläche unter diesem Diagramm berechnet. Je größer das Ergebnis, desto genauer die Antwort.\n",
        "\n",
        "\n",
        "\n",
        "\n",
        "TPR doğru şekilde tanımlanan gerçek pozitiflerin yüzdesini ölçmek için kullanılır.\n",
        "FPR belirli bir test için boş hipotezin yanlış bir şekilde reddedilme olasılığıdır.\n",
        "Treshold dediğimiz de belirlenilen bir değerde bu değerin altında veya üstünde olması durumuna göre sınıflandırma yapılabilir.\n",
        "Çizdğimiz ROC grafiği kısaca her bir trashold değeri için oluşturulan confusion matrix değerine denk gelir\n",
        "AUC değeri çizilen grafiğin altında kalan alana tekabül eder. Yani çizilen grafiğimiz ne kadar doğruysa alan dolayısıyla auc değerimiz büyür aynı şey tam tersi için de geçerlidir auc değerimiz ne kadar büyükse çizdiğimiz grafik o kadar doğrudur diyebiliriz.\n",
        "ilk adımda bu 2 değerin belirlenmesi için elde ettiğimiz ve gerçek olan 2 değerin karşılaştırması ile başlarız.\n",
        "Diğer adımda yapılan işlem ise bu çizdiğimiz grafiğin altında kalan alanı hesaplama işlemidir. Sonuç ne kadar büyükse yanıt o kadar doğrudur\n"
      ]
    },
    {
      "cell_type": "code",
      "metadata": {
        "id": "DCnmW4f4wKPW",
        "colab": {
          "base_uri": "https://localhost:8080/"
        },
        "outputId": "85bd2cf0-a256-48d5-c796-b9e54ec2f95c"
      },
      "source": [
        "model_rf.score(X_test,y_test)"
      ],
      "execution_count": null,
      "outputs": [
        {
          "output_type": "execute_result",
          "data": {
            "text/plain": [
              "0.7615096795184643"
            ]
          },
          "metadata": {
            "tags": []
          },
          "execution_count": 43
        }
      ]
    },
    {
      "cell_type": "code",
      "metadata": {
        "id": "JrAeR0lwwO3z",
        "colab": {
          "base_uri": "https://localhost:8080/"
        },
        "outputId": "cbec09b0-f92f-4496-b6fc-4e1f9450f531"
      },
      "source": [
        "auc_logistic"
      ],
      "execution_count": null,
      "outputs": [
        {
          "output_type": "execute_result",
          "data": {
            "text/plain": [
              "0.8505572860103439"
            ]
          },
          "metadata": {
            "tags": []
          },
          "execution_count": 44
        }
      ]
    },
    {
      "cell_type": "code",
      "metadata": {
        "id": "3PQ5Q97ywUpk",
        "colab": {
          "base_uri": "https://localhost:8080/"
        },
        "outputId": "750cf087-209b-40f2-cfe7-c98a254648e7"
      },
      "source": [
        "auc_svm"
      ],
      "execution_count": null,
      "outputs": [
        {
          "output_type": "execute_result",
          "data": {
            "text/plain": [
              "0.8503039019982831"
            ]
          },
          "metadata": {
            "tags": []
          },
          "execution_count": 45
        }
      ]
    },
    {
      "cell_type": "markdown",
      "metadata": {
        "id": "xwoU6xVrxSYe"
      },
      "source": [
        "Gemäß den 3 angegebenen Modellen sehen wir, dass die erfolgreichste Modellierung der SVM-Algorithmus und der erfolgloseste Algorithmus die zufällige Gesamtstruktur ist. Die Fortsetzung des SVM-Algorithmus zeigt daher, dass wir das gewünschte Ergebnis besser erzielen können.\n",
        "\n",
        "Verilen 3 adet modellemeye göre en başarılı modellemenin SVM algoritması, en başarısız algoritmanın ise random forest olduğunu görürüz. Bu yüzden SVM algoritması ile devam etmemiz istenen sonucu daha iyi yakalayabileceğimizi gösteriyor."
      ]
    },
    {
      "cell_type": "markdown",
      "metadata": {
        "id": "61I8LU-q7cxj"
      },
      "source": [
        "## Evaluation"
      ]
    },
    {
      "cell_type": "markdown",
      "metadata": {
        "id": "mHo9-6dKOuPy"
      },
      "source": [
        "Im Modellierungsteil war unser effizientester Algorithmus der SVM-Algorithmus. Bei diesem Algorithmus wird jedes Datenelement als Punkt im n-dimensionalen Raum zusammen mit dem Wert jeder Eigenschaft, die der Wert einer bestimmten Koordinate ist, dargestellt. Dann wird die Klassifizierung durchgeführt, indem die Hyperebene gefunden wird, die sich recht gut von den beiden Klassen unterscheidet. In der 2D-Ebene unterscheiden sich die dreidimensionale Vektorebene und die n-dimensionale Hyperebene. Während es visuell möglich ist, die Abstände in zwei- und dreidimensionalen Ebenen zu zeichnen, können wir sie nur in n Dimensionen mathematisch beschreiben.\n",
        "\n",
        "Modelling kısmında en verimli algoritmamız SVM algoritması çıkmıştı. Bu algoritmada, her bir veri maddesini belirli bir koordinatın değeri olan her özelliğin değeri ile birlikte n-boyutlu boşluğa bir nokta olarak çizilir. Ardından, iki sınıftan oldukça iyi ayrım yapan hiper-düzlemi bularak sınıflandırma gerçekleştirilir. 2 Boyutlu düzlemde ayrımı yapan şey vektör, 3 boyutlu da düzlem, n boyutlu da hiper - düzlemdir. 2 ve 3 boyutlu düzlemde ayrımları çizmek görsel olarak mümkünken n boyutlu da ancak matematiksel olarak tasvir edebiliriz."
      ]
    },
    {
      "cell_type": "code",
      "metadata": {
        "id": "eqBN1F7JBBJv",
        "colab": {
          "base_uri": "https://localhost:8080/"
        },
        "outputId": "e5b02033-71f1-4bcf-e6a9-0997e488dbc7"
      },
      "source": [
        "df0 = df.loc[df['Label'] == 0]\n",
        "df1 = df.loc[df['Label'] == 1]\n",
        "df1.head()"
      ],
      "execution_count": null,
      "outputs": [
        {
          "output_type": "execute_result",
          "data": {
            "text/html": [
              "<div>\n",
              "<style scoped>\n",
              "    .dataframe tbody tr th:only-of-type {\n",
              "        vertical-align: middle;\n",
              "    }\n",
              "\n",
              "    .dataframe tbody tr th {\n",
              "        vertical-align: top;\n",
              "    }\n",
              "\n",
              "    .dataframe thead th {\n",
              "        text-align: right;\n",
              "    }\n",
              "</style>\n",
              "<table border=\"1\" class=\"dataframe\">\n",
              "  <thead>\n",
              "    <tr style=\"text-align: right;\">\n",
              "      <th></th>\n",
              "      <th>Alter</th>\n",
              "      <th>Beruf</th>\n",
              "      <th>Familienstand</th>\n",
              "      <th>Ausbildung</th>\n",
              "      <th>Ausgefallen</th>\n",
              "      <th>Kontostand</th>\n",
              "      <th>Eigentum</th>\n",
              "      <th>Darlehen</th>\n",
              "      <th>Dauer</th>\n",
              "      <th>Label</th>\n",
              "      <th>0</th>\n",
              "      <th>1</th>\n",
              "      <th>2</th>\n",
              "      <th>3</th>\n",
              "      <th>4</th>\n",
              "      <th>5</th>\n",
              "      <th>6</th>\n",
              "      <th>7</th>\n",
              "      <th>8</th>\n",
              "      <th>9</th>\n",
              "      <th>10</th>\n",
              "      <th>0</th>\n",
              "      <th>1</th>\n",
              "      <th>2</th>\n",
              "      <th>0</th>\n",
              "      <th>1</th>\n",
              "      <th>2</th>\n",
              "      <th>3</th>\n",
              "    </tr>\n",
              "  </thead>\n",
              "  <tbody>\n",
              "    <tr>\n",
              "      <th>0</th>\n",
              "      <td>31</td>\n",
              "      <td>3</td>\n",
              "      <td>2</td>\n",
              "      <td>0</td>\n",
              "      <td>0</td>\n",
              "      <td>162</td>\n",
              "      <td>1</td>\n",
              "      <td>1</td>\n",
              "      <td>0</td>\n",
              "      <td>1</td>\n",
              "      <td>0</td>\n",
              "      <td>0</td>\n",
              "      <td>0</td>\n",
              "      <td>1</td>\n",
              "      <td>0</td>\n",
              "      <td>0</td>\n",
              "      <td>0</td>\n",
              "      <td>0</td>\n",
              "      <td>0</td>\n",
              "      <td>0</td>\n",
              "      <td>0</td>\n",
              "      <td>0</td>\n",
              "      <td>0</td>\n",
              "      <td>1</td>\n",
              "      <td>1</td>\n",
              "      <td>0</td>\n",
              "      <td>0</td>\n",
              "      <td>0</td>\n",
              "    </tr>\n",
              "    <tr>\n",
              "      <th>2</th>\n",
              "      <td>39</td>\n",
              "      <td>9</td>\n",
              "      <td>0</td>\n",
              "      <td>0</td>\n",
              "      <td>0</td>\n",
              "      <td>17441</td>\n",
              "      <td>1</td>\n",
              "      <td>1</td>\n",
              "      <td>1</td>\n",
              "      <td>1</td>\n",
              "      <td>0</td>\n",
              "      <td>0</td>\n",
              "      <td>0</td>\n",
              "      <td>0</td>\n",
              "      <td>0</td>\n",
              "      <td>0</td>\n",
              "      <td>0</td>\n",
              "      <td>0</td>\n",
              "      <td>0</td>\n",
              "      <td>1</td>\n",
              "      <td>0</td>\n",
              "      <td>1</td>\n",
              "      <td>0</td>\n",
              "      <td>0</td>\n",
              "      <td>1</td>\n",
              "      <td>0</td>\n",
              "      <td>0</td>\n",
              "      <td>0</td>\n",
              "    </tr>\n",
              "    <tr>\n",
              "      <th>164</th>\n",
              "      <td>23</td>\n",
              "      <td>1</td>\n",
              "      <td>1</td>\n",
              "      <td>2</td>\n",
              "      <td>0</td>\n",
              "      <td>1003</td>\n",
              "      <td>0</td>\n",
              "      <td>0</td>\n",
              "      <td>8</td>\n",
              "      <td>1</td>\n",
              "      <td>0</td>\n",
              "      <td>1</td>\n",
              "      <td>0</td>\n",
              "      <td>0</td>\n",
              "      <td>0</td>\n",
              "      <td>0</td>\n",
              "      <td>0</td>\n",
              "      <td>0</td>\n",
              "      <td>0</td>\n",
              "      <td>0</td>\n",
              "      <td>0</td>\n",
              "      <td>0</td>\n",
              "      <td>1</td>\n",
              "      <td>0</td>\n",
              "      <td>0</td>\n",
              "      <td>0</td>\n",
              "      <td>1</td>\n",
              "      <td>0</td>\n",
              "    </tr>\n",
              "    <tr>\n",
              "      <th>181</th>\n",
              "      <td>44</td>\n",
              "      <td>1</td>\n",
              "      <td>2</td>\n",
              "      <td>1</td>\n",
              "      <td>0</td>\n",
              "      <td>17747</td>\n",
              "      <td>1</td>\n",
              "      <td>0</td>\n",
              "      <td>8</td>\n",
              "      <td>1</td>\n",
              "      <td>0</td>\n",
              "      <td>1</td>\n",
              "      <td>0</td>\n",
              "      <td>0</td>\n",
              "      <td>0</td>\n",
              "      <td>0</td>\n",
              "      <td>0</td>\n",
              "      <td>0</td>\n",
              "      <td>0</td>\n",
              "      <td>0</td>\n",
              "      <td>0</td>\n",
              "      <td>0</td>\n",
              "      <td>0</td>\n",
              "      <td>1</td>\n",
              "      <td>0</td>\n",
              "      <td>1</td>\n",
              "      <td>0</td>\n",
              "      <td>0</td>\n",
              "    </tr>\n",
              "    <tr>\n",
              "      <th>268</th>\n",
              "      <td>36</td>\n",
              "      <td>10</td>\n",
              "      <td>2</td>\n",
              "      <td>1</td>\n",
              "      <td>0</td>\n",
              "      <td>14462</td>\n",
              "      <td>1</td>\n",
              "      <td>0</td>\n",
              "      <td>10</td>\n",
              "      <td>1</td>\n",
              "      <td>0</td>\n",
              "      <td>0</td>\n",
              "      <td>0</td>\n",
              "      <td>0</td>\n",
              "      <td>0</td>\n",
              "      <td>0</td>\n",
              "      <td>0</td>\n",
              "      <td>0</td>\n",
              "      <td>0</td>\n",
              "      <td>0</td>\n",
              "      <td>1</td>\n",
              "      <td>0</td>\n",
              "      <td>0</td>\n",
              "      <td>1</td>\n",
              "      <td>0</td>\n",
              "      <td>1</td>\n",
              "      <td>0</td>\n",
              "      <td>0</td>\n",
              "    </tr>\n",
              "  </tbody>\n",
              "</table>\n",
              "</div>"
            ],
            "text/plain": [
              "     Alter  Beruf  Familienstand  Ausbildung  Ausgefallen  ...  2  0  1  2  3\n",
              "0       31      3              2           0            0  ...  1  1  0  0  0\n",
              "2       39      9              0           0            0  ...  0  1  0  0  0\n",
              "164     23      1              1           2            0  ...  0  0  0  1  0\n",
              "181     44      1              2           1            0  ...  1  0  1  0  0\n",
              "268     36     10              2           1            0  ...  1  0  1  0  0\n",
              "\n",
              "[5 rows x 28 columns]"
            ]
          },
          "metadata": {
            "tags": []
          },
          "execution_count": 46
        }
      ]
    },
    {
      "cell_type": "markdown",
      "metadata": {
        "id": "U8IzX6MzPQEz"
      },
      "source": [
        "Unser Operationsergebnis besteht darin, jeden Wert in der Ebene zu platzieren, in der unser Zielwert 1 und 0 ist, und diese Daten auf die erfolgreichste Weise zu teilen.\n",
        "\n",
        "Burada yaptığımız işlem sonucumuz yani target değerimizin 1 ve 0 olduğu durumlardaki her bir değeri düzleme yerleştirmek ve yerleştirdiğimiz bu verileri en başarılı şekilde bölmektir."
      ]
    },
    {
      "cell_type": "code",
      "metadata": {
        "id": "6ofwkNoxHE4P",
        "colab": {
          "base_uri": "https://localhost:8080/"
        },
        "outputId": "aaa7048f-4365-45c5-cd51-921b494e2ba8"
      },
      "source": [
        "%matplotlib inline\n",
        "plt.xlabel('Alter')\n",
        "plt.ylabel('Kontostand')\n",
        "plt.scatter(df0['Alter'], df0['Kontostand'], color = 'green', marker='+')\n",
        "plt.scatter(df1['Alter'], df1['Kontostand'], color = 'blue', marker='.')"
      ],
      "execution_count": null,
      "outputs": [
        {
          "output_type": "execute_result",
          "data": {
            "text/plain": [
              "<matplotlib.collections.PathCollection at 0x7f8bbb4df630>"
            ]
          },
          "metadata": {
            "tags": []
          },
          "execution_count": 47
        },
        {
          "output_type": "display_data",
          "data": {
            "image/png": "[encoded data removed]",
            "text/plain": [
              "<Figure size 432x288 with 1 Axes>"
            ]
          },
          "metadata": {
            "tags": [],
            "needs_background": "light"
          }
        }
      ]
    },
    {
      "cell_type": "code",
      "metadata": {
        "id": "mGkSxwuhH4J0",
        "colab": {
          "base_uri": "https://localhost:8080/"
        },
        "outputId": "65e2b045-506a-490b-bfca-cc967861e946"
      },
      "source": [
        "plt.xlabel('Alter')\n",
        "plt.ylabel('Dauer')\n",
        "plt.scatter(df0['Alter'], df0['Dauer'], color = 'green', marker='+')\n",
        "plt.scatter(df1['Alter'], df1['Dauer'], color = 'blue', marker='.')"
      ],
      "execution_count": null,
      "outputs": [
        {
          "output_type": "execute_result",
          "data": {
            "text/plain": [
              "<matplotlib.collections.PathCollection at 0x7f8bbb43fa58>"
            ]
          },
          "metadata": {
            "tags": []
          },
          "execution_count": 48
        },
        {
          "output_type": "display_data",
          "data": {
            "image/png": "[encoded data removed]",
            "text/plain": [
              "<Figure size 432x288 with 1 Axes>"
            ]
          },
          "metadata": {
            "tags": [],
            "needs_background": "light"
          }
        }
      ]
    },
    {
      "cell_type": "markdown",
      "metadata": {
        "id": "miKF4msKPhbY"
      },
      "source": [
        "Wie in den beiden obigen Beispielen zu sehen ist, werden unsere Daten auf einer zweidimensionalen Ebene platziert. Es ist sehr schwierig für uns, eine sichtbare Unterscheidung zu treffen, da wir so viele Daten haben. Wenn jedoch den x- und y-Dimensionen eine zusätzliche z-Dimension hinzugefügt wird, ist die Unterscheidung möglicherweise einfacher.\n",
        "\n",
        "Yukarıdaki 2 örnekte görüldüğü üzere verilerimiz 2 boyutlu düzlem üzerine yerleştirilmiştir. Elimizde çok fazla veri bulunduğu için şuanda gözle görülebilir bir ayrım yapmamız çok zor. Lakin x ve y boyutuna ekstra olarak belki z boyutu da eklenirse ayrımı yapmak kolaylaşabilir."
      ]
    },
    {
      "cell_type": "code",
      "metadata": {
        "id": "82s0QTBMINtz"
      },
      "source": [
        "# X = df.drop(['Label','Beruf','Familienstand','Ausbildung'], axis = 1)\n",
        "# y = df['Label']"
      ],
      "execution_count": null,
      "outputs": []
    },
    {
      "cell_type": "code",
      "metadata": {
        "id": "l5olpYNzIm_W"
      },
      "source": [
        "# X_train, X_test, y_train, y_test = train_test_split(X, y, test_size = 0.3)"
      ],
      "execution_count": null,
      "outputs": []
    },
    {
      "cell_type": "markdown",
      "metadata": {
        "id": "shymY-PEPzkD"
      },
      "source": [
        "Tatsächlich sind die obigen Operationen nicht auf diese beiden Prozesse beschränkt, aber es wäre sinnlos, sie hier erneut zu schreiben, da die auszuführenden Operationen bereits im Vorverarbeitungsabschnitt ausgeführt werden.\n",
        "\n",
        "Aslında yukarıda yapılan işlemler bu iki işlem ile sınırlı değildir ama zaten yapılacak olan işlemler preprocessing kısmında yapıldığı için tekrar buraya yazmak anlamsız olur."
      ]
    },
    {
      "cell_type": "code",
      "metadata": {
        "id": "bZy2fZTSIpsf"
      },
      "source": [
        "from sklearn.svm import SVC\n",
        "model = SVC(random_state=4711)"
      ],
      "execution_count": null,
      "outputs": []
    },
    {
      "cell_type": "code",
      "metadata": {
        "id": "KU9s4uEsIvV9",
        "colab": {
          "base_uri": "https://localhost:8080/"
        },
        "outputId": "75184eb3-1964-4ff8-bc94-62ec994023c4"
      },
      "source": [
        "model.fit(X_train,y_train)"
      ],
      "execution_count": null,
      "outputs": [
        {
          "output_type": "execute_result",
          "data": {
            "text/plain": [
              "SVC(C=1.0, break_ties=False, cache_size=200, class_weight=None, coef0=0.0,\n",
              "    decision_function_shape='ovr', degree=3, gamma='scale', kernel='rbf',\n",
              "    max_iter=-1, probability=False, random_state=4711, shrinking=True,\n",
              "    tol=0.001, verbose=False)"
            ]
          },
          "metadata": {
            "tags": []
          },
          "execution_count": 52
        }
      ]
    },
    {
      "cell_type": "code",
      "metadata": {
        "id": "G0PLvfqKI2ub",
        "colab": {
          "base_uri": "https://localhost:8080/"
        },
        "outputId": "f46c0c0a-1b3a-4978-f787-87565b3c1309"
      },
      "source": [
        "model.score(X_test,y_test)"
      ],
      "execution_count": null,
      "outputs": [
        {
          "output_type": "execute_result",
          "data": {
            "text/plain": [
              "0.8151944037741988"
            ]
          },
          "metadata": {
            "tags": []
          },
          "execution_count": 53
        }
      ]
    },
    {
      "cell_type": "code",
      "metadata": {
        "id": "0chR0wpMKFRZ"
      },
      "source": [
        "y_predicted = model.predict(X_test)"
      ],
      "execution_count": null,
      "outputs": []
    },
    {
      "cell_type": "markdown",
      "metadata": {
        "id": "Op86bvKyQnm4"
      },
      "source": [
        "Wir müssen die Bibliothek des Algorithmus importieren, mit dem wir arbeiten werden. Nach dem Import dieser Bibliothek platzieren wir unsere Werte in den erforderlichen Funktionen, wenn wir die zufällige Gesamtstruktur verwenden.\n",
        "Wenn wir uns model.score ansehen, sehen wir, dass wir ein besseres Ergebnis erzielen als der Random Forest-Algorithmus.\n",
        "\n",
        "Çalışacağımız algoritmaya ait kütüphaneyi importlamamız gerekli. Bu kütüphaneyi importladıktan sonra random forestta kullandığımız gibi değerlerimizi gerekli fonksiyonların içine yerleştiriyoruz.\n",
        "model.score'a baktığımızda ise random forest algoritmasından daha iyi bir sonuç elde ettiğimizi görüyoruz."
      ]
    },
    {
      "cell_type": "code",
      "metadata": {
        "id": "XDrSlJxyKIZ3",
        "colab": {
          "base_uri": "https://localhost:8080/"
        },
        "outputId": "3e60dda2-b19e-487b-e51e-b3c99ae3f065"
      },
      "source": [
        "from sklearn.metrics import confusion_matrix\n",
        "cm2 = confusion_matrix(y_test, y_predicted)\n",
        "cm2"
      ],
      "execution_count": null,
      "outputs": [
        {
          "output_type": "execute_result",
          "data": {
            "text/plain": [
              "array([[4472,  189],\n",
              "       [ 947,  539]])"
            ]
          },
          "metadata": {
            "tags": []
          },
          "execution_count": 55
        }
      ]
    },
    {
      "cell_type": "code",
      "metadata": {
        "id": "KNX0ocHYKL6I",
        "colab": {
          "base_uri": "https://localhost:8080/"
        },
        "outputId": "c79a6dd3-1a43-4ce5-98ce-bdc0c5f63bc9"
      },
      "source": [
        "%matplotlib inline\n",
        "import matplotlib.pyplot as plt\n",
        "import seaborn as sn\n",
        "plt.figure(figsize=(10,7))\n",
        "sn.heatmap(cm, annot=True)\n",
        "plt.xlabel('Predicted')\n",
        "plt.ylabel('Truth')"
      ],
      "execution_count": null,
      "outputs": [
        {
          "output_type": "execute_result",
          "data": {
            "text/plain": [
              "Text(69.0, 0.5, 'Truth')"
            ]
          },
          "metadata": {
            "tags": []
          },
          "execution_count": 56
        },
        {
          "output_type": "display_data",
          "data": {
            "image/png": "[encoded data removed]",
            "text/plain": [
              "<Figure size 720x504 with 2 Axes>"
            ]
          },
          "metadata": {
            "tags": [],
            "needs_background": "light"
          }
        }
      ]
    },
    {
      "cell_type": "markdown",
      "metadata": {
        "id": "m0r7IK9VRAr_"
      },
      "source": [
        "Wieder können wir die confusion-matrix sehen, die wir hier erstellt haben.\n",
        "\n",
        "Yine oluşturmuş olduğumuz confusion matrix'i burada görebiliriz."
      ]
    },
    {
      "cell_type": "markdown",
      "metadata": {
        "id": "1-bAxSJRBiW-"
      },
      "source": [
        "## Deployment\n"
      ]
    },
    {
      "cell_type": "markdown",
      "metadata": {
        "id": "wFeCzDeaBmgO"
      },
      "source": [
        "In diesem Schritt wird das Modell für neue Daten außerhalb des Datensatzes und von neuen Stakeholdern verwendet. Neue Interaktionen in dieser Phase können neue Variablen und Anforderungen für den Datensatz und das Modell aufzeigen. Aus diesem Grund kann der zu Beginn ermittelte Änderungsbedarf bei den Geschäftsanforderungen auftreten und der Prozess kann aufgrund des Änderungsbedarfs von vorne beginnen.\n",
        "\n",
        "Bu adımda, model, veri kümesinin kapsamı dışındaki yeni verilerde ve yeni paydaşlar tarafından kullanılır. Bu aşamadaki yeni etkileşimler, veri kümesi ve modeli için yeni değişkenleri ve ihtiyaçları ortaya çıkarabilir. Bu sebeple en başta belirlenmiş olan iş ihtiyaçlarında değişiklik ihtiyacı ortaya çıkabilir ve süreç değişiklik ihtiyaçları sebebi ile yeniden başlayabilir."
      ]
    },
    {
      "cell_type": "markdown",
      "metadata": {
        "id": "DhlJyLw4ROhz"
      },
      "source": [
        "Wir benötigen andere Daten als wir, die dem gleichen Zweck dienen, aber wir haben diese Daten derzeit nicht.\n",
        "\n",
        "Aynı amaca hizmet eden elimizdekinden farklı verilere ihtiyacımız var lakin şuanda bizde bu veriler yok"
      ]
    }
  ]
}